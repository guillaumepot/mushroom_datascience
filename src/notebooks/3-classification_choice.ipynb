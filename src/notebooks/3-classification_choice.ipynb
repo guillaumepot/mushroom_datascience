{
 "cells": [
  {
   "cell_type": "markdown",
   "metadata": {},
   "source": [
    "## Lib"
   ]
  },
  {
   "cell_type": "code",
   "execution_count": 81,
   "metadata": {},
   "outputs": [],
   "source": [
    "import pandas as pd\n",
    "pd.set_option('display.max_columns', None)\n",
    "\n",
    "from pprint import pprint\n",
    "\n",
    "\n",
    "import sys\n",
    "sys.path.append(\"../\")\n",
    "\n",
    "from utils.file_processing import move_files_to_folder"
   ]
  },
  {
   "cell_type": "markdown",
   "metadata": {},
   "source": [
    "## Vars"
   ]
  },
  {
   "cell_type": "code",
   "execution_count": 82,
   "metadata": {},
   "outputs": [],
   "source": [
    "# File URL\n",
    "csv_url=\"../../storage/datas/csv/clean/cleaned_dataset_with_features_and_dimensions.csv\"\n",
    "\n",
    "# Load CSV as DF\n",
    "df = pd.read_csv(csv_url, low_memory=False)"
   ]
  },
  {
   "cell_type": "markdown",
   "metadata": {},
   "source": [
    "## 1 - Choose labels to keep"
   ]
  },
  {
   "cell_type": "code",
   "execution_count": 83,
   "metadata": {},
   "outputs": [
    {
     "name": "stdout",
     "output_type": "stream",
     "text": [
      "Initial df shape: (365252, 15)\n"
     ]
    }
   ],
   "source": [
    "print(f\"Initial df shape: {df.shape}\")"
   ]
  },
  {
   "cell_type": "code",
   "execution_count": 84,
   "metadata": {},
   "outputs": [
    {
     "data": {
      "text/html": [
       "<div>\n",
       "<style scoped>\n",
       "    .dataframe tbody tr th:only-of-type {\n",
       "        vertical-align: middle;\n",
       "    }\n",
       "\n",
       "    .dataframe tbody tr th {\n",
       "        vertical-align: top;\n",
       "    }\n",
       "\n",
       "    .dataframe thead th {\n",
       "        text-align: right;\n",
       "    }\n",
       "</style>\n",
       "<table border=\"1\" class=\"dataframe\">\n",
       "  <thead>\n",
       "    <tr style=\"text-align: right;\">\n",
       "      <th></th>\n",
       "      <th>image_lien</th>\n",
       "      <th>label</th>\n",
       "      <th>family</th>\n",
       "      <th>phylum</th>\n",
       "      <th>species</th>\n",
       "      <th>canonicalName</th>\n",
       "      <th>class</th>\n",
       "      <th>genus</th>\n",
       "      <th>order</th>\n",
       "      <th>width</th>\n",
       "      <th>height</th>\n",
       "      <th>red_color_mean</th>\n",
       "      <th>green_color_mean</th>\n",
       "      <th>blue_color_mean</th>\n",
       "      <th>all_color_mean</th>\n",
       "    </tr>\n",
       "  </thead>\n",
       "  <tbody>\n",
       "    <tr>\n",
       "      <th>0</th>\n",
       "      <td>/home/guillaume/Téléchargements/mushroom-datas...</td>\n",
       "      <td>Xylaria polymorpha</td>\n",
       "      <td>Xylariaceae</td>\n",
       "      <td>Ascomycota</td>\n",
       "      <td>Xylaria polymorpha</td>\n",
       "      <td>Xylaria polymorpha</td>\n",
       "      <td>Sordariomycetes</td>\n",
       "      <td>Xylaria</td>\n",
       "      <td>Xylariales</td>\n",
       "      <td>320</td>\n",
       "      <td>240</td>\n",
       "      <td>77.321185</td>\n",
       "      <td>72.687839</td>\n",
       "      <td>70.582227</td>\n",
       "      <td>73.530417</td>\n",
       "    </tr>\n",
       "    <tr>\n",
       "      <th>1</th>\n",
       "      <td>/home/guillaume/Téléchargements/mushroom-datas...</td>\n",
       "      <td>Xylaria magnoliae</td>\n",
       "      <td>Xylariaceae</td>\n",
       "      <td>Ascomycota</td>\n",
       "      <td>Xylaria magnoliae</td>\n",
       "      <td>Xylaria magnoliae</td>\n",
       "      <td>Sordariomycetes</td>\n",
       "      <td>Xylaria</td>\n",
       "      <td>Xylariales</td>\n",
       "      <td>320</td>\n",
       "      <td>240</td>\n",
       "      <td>71.123307</td>\n",
       "      <td>64.609049</td>\n",
       "      <td>62.255977</td>\n",
       "      <td>65.996111</td>\n",
       "    </tr>\n",
       "    <tr>\n",
       "      <th>2</th>\n",
       "      <td>/home/guillaume/Téléchargements/mushroom-datas...</td>\n",
       "      <td>Xylaria hypoxylon</td>\n",
       "      <td>Xylariaceae</td>\n",
       "      <td>Ascomycota</td>\n",
       "      <td>Xylaria hypoxylon</td>\n",
       "      <td>Xylaria hypoxylon</td>\n",
       "      <td>Sordariomycetes</td>\n",
       "      <td>Xylaria</td>\n",
       "      <td>Xylariales</td>\n",
       "      <td>320</td>\n",
       "      <td>240</td>\n",
       "      <td>84.582305</td>\n",
       "      <td>70.401758</td>\n",
       "      <td>54.611263</td>\n",
       "      <td>69.865109</td>\n",
       "    </tr>\n",
       "    <tr>\n",
       "      <th>3</th>\n",
       "      <td>/home/guillaume/Téléchargements/mushroom-datas...</td>\n",
       "      <td>Xylaria hypoxylon</td>\n",
       "      <td>Xylariaceae</td>\n",
       "      <td>Ascomycota</td>\n",
       "      <td>Xylaria hypoxylon</td>\n",
       "      <td>Xylaria hypoxylon</td>\n",
       "      <td>Sordariomycetes</td>\n",
       "      <td>Xylaria</td>\n",
       "      <td>Xylariales</td>\n",
       "      <td>240</td>\n",
       "      <td>320</td>\n",
       "      <td>28.234687</td>\n",
       "      <td>27.118841</td>\n",
       "      <td>23.883490</td>\n",
       "      <td>26.412339</td>\n",
       "    </tr>\n",
       "    <tr>\n",
       "      <th>4</th>\n",
       "      <td>/home/guillaume/Téléchargements/mushroom-datas...</td>\n",
       "      <td>Xeromphalina campanella</td>\n",
       "      <td>Mycenaceae</td>\n",
       "      <td>Basidiomycota</td>\n",
       "      <td>Xeromphalina campanella</td>\n",
       "      <td>Xeromphalina campanella</td>\n",
       "      <td>Agaricomycetes</td>\n",
       "      <td>Xeromphalina</td>\n",
       "      <td>Agaricales</td>\n",
       "      <td>240</td>\n",
       "      <td>320</td>\n",
       "      <td>41.552617</td>\n",
       "      <td>35.021029</td>\n",
       "      <td>26.419349</td>\n",
       "      <td>34.330998</td>\n",
       "    </tr>\n",
       "  </tbody>\n",
       "</table>\n",
       "</div>"
      ],
      "text/plain": [
       "                                          image_lien                    label  \\\n",
       "0  /home/guillaume/Téléchargements/mushroom-datas...       Xylaria polymorpha   \n",
       "1  /home/guillaume/Téléchargements/mushroom-datas...        Xylaria magnoliae   \n",
       "2  /home/guillaume/Téléchargements/mushroom-datas...        Xylaria hypoxylon   \n",
       "3  /home/guillaume/Téléchargements/mushroom-datas...        Xylaria hypoxylon   \n",
       "4  /home/guillaume/Téléchargements/mushroom-datas...  Xeromphalina campanella   \n",
       "\n",
       "        family         phylum                  species  \\\n",
       "0  Xylariaceae     Ascomycota       Xylaria polymorpha   \n",
       "1  Xylariaceae     Ascomycota        Xylaria magnoliae   \n",
       "2  Xylariaceae     Ascomycota        Xylaria hypoxylon   \n",
       "3  Xylariaceae     Ascomycota        Xylaria hypoxylon   \n",
       "4   Mycenaceae  Basidiomycota  Xeromphalina campanella   \n",
       "\n",
       "             canonicalName            class         genus       order  width  \\\n",
       "0       Xylaria polymorpha  Sordariomycetes       Xylaria  Xylariales    320   \n",
       "1        Xylaria magnoliae  Sordariomycetes       Xylaria  Xylariales    320   \n",
       "2        Xylaria hypoxylon  Sordariomycetes       Xylaria  Xylariales    320   \n",
       "3        Xylaria hypoxylon  Sordariomycetes       Xylaria  Xylariales    240   \n",
       "4  Xeromphalina campanella   Agaricomycetes  Xeromphalina  Agaricales    240   \n",
       "\n",
       "   height  red_color_mean  green_color_mean  blue_color_mean  all_color_mean  \n",
       "0     240       77.321185         72.687839        70.582227       73.530417  \n",
       "1     240       71.123307         64.609049        62.255977       65.996111  \n",
       "2     240       84.582305         70.401758        54.611263       69.865109  \n",
       "3     320       28.234687         27.118841        23.883490       26.412339  \n",
       "4     320       41.552617         35.021029        26.419349       34.330998  "
      ]
     },
     "execution_count": 84,
     "metadata": {},
     "output_type": "execute_result"
    }
   ],
   "source": [
    "df.head()"
   ]
  },
  {
   "cell_type": "code",
   "execution_count": 85,
   "metadata": {},
   "outputs": [
    {
     "name": "stdout",
     "output_type": "stream",
     "text": [
      "(\"Top 10 species: ['Pleurotus ostreatus', 'Trametes versicolor', 'Pluteus \"\n",
      " \"cervinus', 'Lepista nuda', 'Boletus edulis', 'Psilocybe zapotecorum', \"\n",
      " \"'Hypholoma fasciculare', 'Psilocybe cyanescens', 'Ganoderma applanatum', \"\n",
      " \"'Galerina marginata']\")\n"
     ]
    }
   ],
   "source": [
    "# Lets get top 10 species\n",
    "top_10_species = df['species'].value_counts().head(10).index.tolist()\n",
    "pprint(f\"Top 10 species: {top_10_species}\")"
   ]
  },
  {
   "cell_type": "code",
   "execution_count": 86,
   "metadata": {},
   "outputs": [
    {
     "name": "stdout",
     "output_type": "stream",
     "text": [
      "Top 10 species shape: (13674, 15)\n"
     ]
    }
   ],
   "source": [
    "df_top_10_species = df[df['species'].isin(top_10_species)]\n",
    "print(f\"Top 10 species shape: {df_top_10_species.shape}\")"
   ]
  },
  {
   "cell_type": "code",
   "execution_count": 87,
   "metadata": {},
   "outputs": [
    {
     "data": {
      "text/plain": [
       "species\n",
       "Pleurotus ostreatus      1605\n",
       "Trametes versicolor      1574\n",
       "Pluteus cervinus         1400\n",
       "Lepista nuda             1385\n",
       "Boletus edulis           1380\n",
       "Psilocybe zapotecorum    1344\n",
       "Hypholoma fasciculare    1272\n",
       "Psilocybe cyanescens     1251\n",
       "Ganoderma applanatum     1247\n",
       "Galerina marginata       1216\n",
       "Name: count, dtype: int64"
      ]
     },
     "execution_count": 87,
     "metadata": {},
     "output_type": "execute_result"
    }
   ],
   "source": [
    "df_top_10_species[\"species\"].value_counts()"
   ]
  },
  {
   "cell_type": "code",
   "execution_count": 88,
   "metadata": {},
   "outputs": [],
   "source": [
    "# Add 1400 other random species classified as \"other specy\"\n",
    "df_other_species = df[~df['species'].isin(top_10_species)].sample(1400)\n",
    "df_other_species[\"species\"] = \"other\"\n",
    "\n",
    "# Concatenate top 10 species with other species\n",
    "df = pd.concat([df_top_10_species, df_other_species])"
   ]
  },
  {
   "cell_type": "code",
   "execution_count": 89,
   "metadata": {},
   "outputs": [
    {
     "name": "stdout",
     "output_type": "stream",
     "text": [
      "New df shape: (15074, 15)\n"
     ]
    }
   ],
   "source": [
    "# New shape\n",
    "print(f\"New df shape: {df.shape}\")"
   ]
  },
  {
   "cell_type": "code",
   "execution_count": 90,
   "metadata": {},
   "outputs": [],
   "source": [
    "# Save new df\n",
    "df.to_csv(\"../../storage/datas/csv/clean/cleaned_dataset_with_features_and_dimensions_top_10_species.csv\", index=False)"
   ]
  },
  {
   "cell_type": "markdown",
   "metadata": {},
   "source": [
    " ## 2 - Keeps only imgs from top 10 species"
   ]
  },
  {
   "cell_type": "code",
   "execution_count": 77,
   "metadata": {},
   "outputs": [],
   "source": [
    "csv_url = \"../../storage/datas/csv/clean/cleaned_dataset_with_features_and_dimensions_top_10_species.csv\"\n",
    "\n",
    "df = pd.read_csv(csv_url, low_memory=False)\n",
    "\n",
    "old_shape = df.shape"
   ]
  },
  {
   "cell_type": "code",
   "execution_count": 79,
   "metadata": {},
   "outputs": [
    {
     "data": {
      "text/plain": [
       "'/home/guillaume/Téléchargements/mushroom-dataset/imgs_in_cleaned_dataset/66.jpg'"
      ]
     },
     "execution_count": 79,
     "metadata": {},
     "output_type": "execute_result"
    }
   ],
   "source": [
    "df[\"image_lien\"][0]"
   ]
  },
  {
   "cell_type": "code",
   "execution_count": 80,
   "metadata": {},
   "outputs": [
    {
     "name": "stdout",
     "output_type": "stream",
     "text": [
      "old shape: (15074, 15) \n",
      " new shape: (0, 15) \n",
      " 15074 images removed from the dataset\n"
     ]
    }
   ],
   "source": [
    "# Remove images that are not in the dataset\n",
    "csv_url = \"../../storage/datas/csv/clean/cleaned_dataset_with_features_and_dimensions_top_10_species.csv\"\n",
    "\n",
    "move_files_to_folder(csv_url = csv_url)\n",
    "\n",
    "# Refer to ../logs/move_files_to_folder.log for more informations\n",
    "\n",
    "# Reload df\n",
    "df = pd.read_csv(csv_url, low_memory=False)\n",
    "new_shape = df.shape\n",
    "print(f\"old shape: {old_shape} \\n new shape: {new_shape} \\n {old_shape[0] - new_shape[0]} images removed from the dataset\")\n",
    "\n",
    "# The cleaned dataset is saved by the function"
   ]
  },
  {
   "cell_type": "code",
   "execution_count": null,
   "metadata": {},
   "outputs": [],
   "source": [
    "/home/guillaume/Téléchargements/mushroom-dataset/imgs_in_cleaned_dataset\n",
    "/home/guillaume/Téléchargements/mushroom-dataset/destination"
   ]
  },
  {
   "cell_type": "code",
   "execution_count": null,
   "metadata": {},
   "outputs": [],
   "source": [
    "\"\"\" REVERSE \"\"\""
   ]
  },
  {
   "cell_type": "code",
   "execution_count": null,
   "metadata": {},
   "outputs": [],
   "source": [
    "# If needed, reverse the operation (Do not reverse cleaned dataset new shape ; it will be different ; use section 1 to recreate the cleaned dataset)\n",
    "source = \"/home/guillaume/Téléchargements/mushroom-dataset/mushroom_images_dataset/imgs_in_cleaned_dataset\"\n",
    "destination = \"/home/guillaume/Téléchargements/mushroom-dataset/mushroom_images_dataset/observations_mushroom\"\n",
    "\n",
    "import os\n",
    "import shutil\n",
    "for file in os.listdir(source):\n",
    "    shutil.move(os.path.join(source, file), destination)"
   ]
  },
  {
   "cell_type": "code",
   "execution_count": null,
   "metadata": {},
   "outputs": [],
   "source": [
    "\"\"\" END REVERSE \"\"\""
   ]
  },
  {
   "cell_type": "code",
   "execution_count": null,
   "metadata": {},
   "outputs": [],
   "source": [
    "cleaned_dataset.to_csv(\"\", index=False)"
   ]
  },
  {
   "cell_type": "markdown",
   "metadata": {},
   "source": [
    "## 2 - Remove bad imgs from the dataset"
   ]
  },
  {
   "cell_type": "code",
   "execution_count": null,
   "metadata": {},
   "outputs": [],
   "source": [
    "import sys\n",
    "sys.path.append(\"../\")\n",
    "\n",
    "from utils.file_processing import make_file_list_as_csv"
   ]
  },
  {
   "cell_type": "code",
   "execution_count": null,
   "metadata": {},
   "outputs": [],
   "source": [
    "# Get good imgs dataset\n",
    "make_file_list_as_csv(file_name=\"good_imgs_dataset\")\n",
    "good_imgs_df = pd.read_csv(\"../../storage/datas/csv/clean/good_imgs_dataset.csv\")"
   ]
  },
  {
   "cell_type": "code",
   "execution_count": null,
   "metadata": {},
   "outputs": [],
   "source": [
    "# Get bad imgs dataset\n",
    "main(file_name=\"bad_imgs_dataset\")\n",
    "bad_imgs_df = pd.read_csv(\"../../storage/datas/csv/clean/bad_imgs_dataset.csv\")"
   ]
  },
  {
   "cell_type": "code",
   "execution_count": null,
   "metadata": {},
   "outputs": [],
   "source": [
    "# Get cleaned dataset with features | Top 10 species\n",
    "cleaned_dataset = pd.read_csv(\"../../storage/datas/csv/clean/cleaned_dataset_with_features_top_10_species.csv\")"
   ]
  },
  {
   "cell_type": "code",
   "execution_count": null,
   "metadata": {},
   "outputs": [],
   "source": [
    "# Remove bad imgs from cleaned dataset\n",
    "cleaned_dataset = cleaned_dataset[~cleaned_dataset[\"id\"].isin(bad_imgs_df[\"id\"])]\n",
    "\n",
    "# Save new cleaned dataset\n",
    "cleaned_dataset.to_csv(\"../../storage/datas/csv/clean/cleaned_dataset_with_features_top_10_species_good_imgs_only.csv\", index=False)"
   ]
  }
 ],
 "metadata": {
  "kernelspec": {
   "display_name": ".venv",
   "language": "python",
   "name": "python3"
  },
  "language_info": {
   "codemirror_mode": {
    "name": "ipython",
    "version": 3
   },
   "file_extension": ".py",
   "mimetype": "text/x-python",
   "name": "python",
   "nbconvert_exporter": "python",
   "pygments_lexer": "ipython3",
   "version": "3.10.12"
  }
 },
 "nbformat": 4,
 "nbformat_minor": 2
}
