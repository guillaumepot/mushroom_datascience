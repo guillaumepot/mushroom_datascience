{
 "cells": [
  {
   "cell_type": "markdown",
   "metadata": {},
   "source": [
    "## Lib"
   ]
  },
  {
   "cell_type": "code",
   "execution_count": 42,
   "metadata": {},
   "outputs": [],
   "source": [
    "import pandas as pd\n",
    "pd.set_option('display.max_columns', None)\n",
    "\n",
    "from pprint import pprint"
   ]
  },
  {
   "cell_type": "markdown",
   "metadata": {},
   "source": [
    "## Vars"
   ]
  },
  {
   "cell_type": "code",
   "execution_count": 43,
   "metadata": {},
   "outputs": [],
   "source": [
    "# File URL\n",
    "csv_url=\"../../storage/datas/csv/clean/cleaned_dataset_with_features.csv\"\n",
    "\n",
    "# Load CSV as DF\n",
    "df = pd.read_csv(csv_url, low_memory=False)"
   ]
  },
  {
   "cell_type": "markdown",
   "metadata": {},
   "source": [
    "## 1 - Choose labels to keep"
   ]
  },
  {
   "cell_type": "code",
   "execution_count": 44,
   "metadata": {},
   "outputs": [
    {
     "name": "stdout",
     "output_type": "stream",
     "text": [
      "Initial df shape: (365013, 15)\n"
     ]
    }
   ],
   "source": [
    "print(f\"Initial df shape: {df.shape}\")"
   ]
  },
  {
   "cell_type": "code",
   "execution_count": 45,
   "metadata": {},
   "outputs": [
    {
     "data": {
      "text/html": [
       "<div>\n",
       "<style scoped>\n",
       "    .dataframe tbody tr th:only-of-type {\n",
       "        vertical-align: middle;\n",
       "    }\n",
       "\n",
       "    .dataframe tbody tr th {\n",
       "        vertical-align: top;\n",
       "    }\n",
       "\n",
       "    .dataframe thead th {\n",
       "        text-align: right;\n",
       "    }\n",
       "</style>\n",
       "<table border=\"1\" class=\"dataframe\">\n",
       "  <thead>\n",
       "    <tr style=\"text-align: right;\">\n",
       "      <th></th>\n",
       "      <th>image_lien</th>\n",
       "      <th>label</th>\n",
       "      <th>family</th>\n",
       "      <th>phylum</th>\n",
       "      <th>species</th>\n",
       "      <th>canonicalName</th>\n",
       "      <th>class</th>\n",
       "      <th>genus</th>\n",
       "      <th>order</th>\n",
       "      <th>width</th>\n",
       "      <th>high</th>\n",
       "      <th>red mean</th>\n",
       "      <th>green mean</th>\n",
       "      <th>blue mean</th>\n",
       "      <th>color mean</th>\n",
       "    </tr>\n",
       "  </thead>\n",
       "  <tbody>\n",
       "    <tr>\n",
       "      <th>0</th>\n",
       "      <td>1.jpg</td>\n",
       "      <td>Xylaria polymorpha</td>\n",
       "      <td>Xylariaceae</td>\n",
       "      <td>Ascomycota</td>\n",
       "      <td>Xylaria polymorpha</td>\n",
       "      <td>Xylaria polymorpha</td>\n",
       "      <td>Sordariomycetes</td>\n",
       "      <td>Xylaria</td>\n",
       "      <td>Xylariales</td>\n",
       "      <td>320.0</td>\n",
       "      <td>240.0</td>\n",
       "      <td>77.321185</td>\n",
       "      <td>72.687839</td>\n",
       "      <td>70.582227</td>\n",
       "      <td>73.530417</td>\n",
       "    </tr>\n",
       "    <tr>\n",
       "      <th>1</th>\n",
       "      <td>2.jpg</td>\n",
       "      <td>Xylaria magnoliae</td>\n",
       "      <td>Xylariaceae</td>\n",
       "      <td>Ascomycota</td>\n",
       "      <td>Xylaria magnoliae</td>\n",
       "      <td>Xylaria magnoliae</td>\n",
       "      <td>Sordariomycetes</td>\n",
       "      <td>Xylaria</td>\n",
       "      <td>Xylariales</td>\n",
       "      <td>320.0</td>\n",
       "      <td>240.0</td>\n",
       "      <td>71.123307</td>\n",
       "      <td>64.609049</td>\n",
       "      <td>62.255977</td>\n",
       "      <td>65.996111</td>\n",
       "    </tr>\n",
       "    <tr>\n",
       "      <th>2</th>\n",
       "      <td>3.jpg</td>\n",
       "      <td>Xylaria hypoxylon</td>\n",
       "      <td>Xylariaceae</td>\n",
       "      <td>Ascomycota</td>\n",
       "      <td>Xylaria hypoxylon</td>\n",
       "      <td>Xylaria hypoxylon</td>\n",
       "      <td>Sordariomycetes</td>\n",
       "      <td>Xylaria</td>\n",
       "      <td>Xylariales</td>\n",
       "      <td>320.0</td>\n",
       "      <td>240.0</td>\n",
       "      <td>84.582305</td>\n",
       "      <td>70.401758</td>\n",
       "      <td>54.611263</td>\n",
       "      <td>69.865109</td>\n",
       "    </tr>\n",
       "    <tr>\n",
       "      <th>3</th>\n",
       "      <td>4.jpg</td>\n",
       "      <td>Xylaria hypoxylon</td>\n",
       "      <td>Xylariaceae</td>\n",
       "      <td>Ascomycota</td>\n",
       "      <td>Xylaria hypoxylon</td>\n",
       "      <td>Xylaria hypoxylon</td>\n",
       "      <td>Sordariomycetes</td>\n",
       "      <td>Xylaria</td>\n",
       "      <td>Xylariales</td>\n",
       "      <td>240.0</td>\n",
       "      <td>320.0</td>\n",
       "      <td>28.234687</td>\n",
       "      <td>27.118841</td>\n",
       "      <td>23.883490</td>\n",
       "      <td>26.412339</td>\n",
       "    </tr>\n",
       "    <tr>\n",
       "      <th>4</th>\n",
       "      <td>6.jpg</td>\n",
       "      <td>Xeromphalina campanella</td>\n",
       "      <td>Mycenaceae</td>\n",
       "      <td>Basidiomycota</td>\n",
       "      <td>Xeromphalina campanella</td>\n",
       "      <td>Xeromphalina campanella</td>\n",
       "      <td>Agaricomycetes</td>\n",
       "      <td>Xeromphalina</td>\n",
       "      <td>Agaricales</td>\n",
       "      <td>240.0</td>\n",
       "      <td>320.0</td>\n",
       "      <td>41.552617</td>\n",
       "      <td>35.021029</td>\n",
       "      <td>26.419349</td>\n",
       "      <td>34.330998</td>\n",
       "    </tr>\n",
       "  </tbody>\n",
       "</table>\n",
       "</div>"
      ],
      "text/plain": [
       "  image_lien                    label       family         phylum  \\\n",
       "0      1.jpg       Xylaria polymorpha  Xylariaceae     Ascomycota   \n",
       "1      2.jpg        Xylaria magnoliae  Xylariaceae     Ascomycota   \n",
       "2      3.jpg        Xylaria hypoxylon  Xylariaceae     Ascomycota   \n",
       "3      4.jpg        Xylaria hypoxylon  Xylariaceae     Ascomycota   \n",
       "4      6.jpg  Xeromphalina campanella   Mycenaceae  Basidiomycota   \n",
       "\n",
       "                   species            canonicalName            class  \\\n",
       "0       Xylaria polymorpha       Xylaria polymorpha  Sordariomycetes   \n",
       "1        Xylaria magnoliae        Xylaria magnoliae  Sordariomycetes   \n",
       "2        Xylaria hypoxylon        Xylaria hypoxylon  Sordariomycetes   \n",
       "3        Xylaria hypoxylon        Xylaria hypoxylon  Sordariomycetes   \n",
       "4  Xeromphalina campanella  Xeromphalina campanella   Agaricomycetes   \n",
       "\n",
       "          genus       order  width   high   red mean  green mean  blue mean  \\\n",
       "0       Xylaria  Xylariales  320.0  240.0  77.321185   72.687839  70.582227   \n",
       "1       Xylaria  Xylariales  320.0  240.0  71.123307   64.609049  62.255977   \n",
       "2       Xylaria  Xylariales  320.0  240.0  84.582305   70.401758  54.611263   \n",
       "3       Xylaria  Xylariales  240.0  320.0  28.234687   27.118841  23.883490   \n",
       "4  Xeromphalina  Agaricales  240.0  320.0  41.552617   35.021029  26.419349   \n",
       "\n",
       "   color mean  \n",
       "0   73.530417  \n",
       "1   65.996111  \n",
       "2   69.865109  \n",
       "3   26.412339  \n",
       "4   34.330998  "
      ]
     },
     "execution_count": 45,
     "metadata": {},
     "output_type": "execute_result"
    }
   ],
   "source": [
    "df.head()"
   ]
  },
  {
   "cell_type": "code",
   "execution_count": 46,
   "metadata": {},
   "outputs": [
    {
     "name": "stdout",
     "output_type": "stream",
     "text": [
      "(\"Top 10 species: ['Pleurotus ostreatus', 'Trametes versicolor', 'Pluteus \"\n",
      " \"cervinus', 'Lepista nuda', 'Psilocybe zapotecorum', 'Psilocybe cyanescens', \"\n",
      " \"'Boletus edulis', 'Hypholoma fasciculare', 'Ganoderma applanatum', 'Galerina \"\n",
      " \"marginata']\")\n"
     ]
    }
   ],
   "source": [
    "# Lets get top 10 species\n",
    "top_10_species = df['species'].value_counts().head(10).index.tolist()\n",
    "pprint(f\"Top 10 species: {top_10_species}\")"
   ]
  },
  {
   "cell_type": "code",
   "execution_count": 47,
   "metadata": {},
   "outputs": [
    {
     "name": "stdout",
     "output_type": "stream",
     "text": [
      "Top 10 species shape: (13800, 15)\n"
     ]
    }
   ],
   "source": [
    "df_top_10_species = df[df['species'].isin(top_10_species)]\n",
    "print(f\"Top 10 species shape: {df_top_10_species.shape}\")"
   ]
  },
  {
   "cell_type": "code",
   "execution_count": 48,
   "metadata": {},
   "outputs": [
    {
     "data": {
      "text/plain": [
       "species\n",
       "Pleurotus ostreatus      1623\n",
       "Trametes versicolor      1608\n",
       "Pluteus cervinus         1470\n",
       "Lepista nuda             1356\n",
       "Psilocybe zapotecorum    1350\n",
       "Psilocybe cyanescens     1310\n",
       "Boletus edulis           1303\n",
       "Hypholoma fasciculare    1293\n",
       "Ganoderma applanatum     1281\n",
       "Galerina marginata       1206\n",
       "Name: count, dtype: int64"
      ]
     },
     "execution_count": 48,
     "metadata": {},
     "output_type": "execute_result"
    }
   ],
   "source": [
    "df_top_10_species[\"species\"].value_counts()"
   ]
  },
  {
   "cell_type": "code",
   "execution_count": 51,
   "metadata": {},
   "outputs": [],
   "source": [
    "# Add 1400 other random species classified as \"other specy\"\n",
    "df_other_species = df[~df['species'].isin(top_10_species)].sample(1400)\n",
    "df_other_species[\"species\"] = \"other\"\n",
    "\n",
    "# Concatenate top 10 species with other species\n",
    "df = pd.concat([df_top_10_species, df_other_species])"
   ]
  },
  {
   "cell_type": "code",
   "execution_count": 52,
   "metadata": {},
   "outputs": [
    {
     "name": "stdout",
     "output_type": "stream",
     "text": [
      "New df shape: (15200, 15)\n"
     ]
    }
   ],
   "source": [
    "# New shape\n",
    "print(f\"New df shape: {df.shape}\")"
   ]
  },
  {
   "cell_type": "code",
   "execution_count": 53,
   "metadata": {},
   "outputs": [],
   "source": [
    "# Save new df\n",
    "df.to_csv(\"../../storage/datas/csv/clean/cleaned_dataset_with_features_top_10_species.csv\", index=False)"
   ]
  },
  {
   "cell_type": "code",
   "execution_count": null,
   "metadata": {},
   "outputs": [],
   "source": []
  }
 ],
 "metadata": {
  "kernelspec": {
   "display_name": ".venv",
   "language": "python",
   "name": "python3"
  },
  "language_info": {
   "codemirror_mode": {
    "name": "ipython",
    "version": 3
   },
   "file_extension": ".py",
   "mimetype": "text/x-python",
   "name": "python",
   "nbconvert_exporter": "python",
   "pygments_lexer": "ipython3",
   "version": "3.10.12"
  }
 },
 "nbformat": 4,
 "nbformat_minor": 2
}
