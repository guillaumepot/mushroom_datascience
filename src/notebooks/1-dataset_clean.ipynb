{
 "cells": [
  {
   "cell_type": "markdown",
   "id": "49519279",
   "metadata": {},
   "source": [
    "## 1 - Data Cleaning"
   ]
  },
  {
   "cell_type": "markdown",
   "id": "1627bb5e",
   "metadata": {},
   "source": [
    "### Lib"
   ]
  },
  {
   "cell_type": "code",
   "execution_count": 36,
   "id": "49ad0977",
   "metadata": {},
   "outputs": [],
   "source": [
    "import pandas as pd\n",
    "pd.set_option('display.max_columns', None)\n",
    "\n",
    "import sys\n",
    "sys.path.append(\"../\")\n",
    "\n",
    "from utils.file_processing import move_files_to_folder"
   ]
  },
  {
   "cell_type": "markdown",
   "id": "c28d0b69",
   "metadata": {},
   "source": [
    "### Vars"
   ]
  },
  {
   "cell_type": "code",
   "execution_count": 37,
   "id": "3ae7d0b3",
   "metadata": {},
   "outputs": [],
   "source": [
    "# File URL\n",
    "raw_csv_url=\"../../storage/datas/csv/raw/observations_mushroom.csv\"\n",
    "\n",
    "# Load CSV as DF\n",
    "observation_mushroom_raw = pd.read_csv(raw_csv_url, low_memory=False)"
   ]
  },
  {
   "cell_type": "markdown",
   "id": "1c28246d",
   "metadata": {},
   "source": [
    "### Describe"
   ]
  },
  {
   "cell_type": "code",
   "execution_count": 38,
   "id": "7297160e",
   "metadata": {},
   "outputs": [
    {
     "name": "stdout",
     "output_type": "stream",
     "text": [
      "<class 'pandas.core.frame.DataFrame'>\n",
      "RangeIndex: 647623 entries, 0 to 647622\n",
      "Data columns (total 33 columns):\n",
      " #   Column                    Non-Null Count   Dtype  \n",
      "---  ------                    --------------   -----  \n",
      " 0   image_lien                647623 non-null  object \n",
      " 1   image_id                  647623 non-null  int64  \n",
      " 2   observation               647623 non-null  object \n",
      " 3   label                     647623 non-null  object \n",
      " 4   image_url                 647623 non-null  object \n",
      " 5   user                      647623 non-null  object \n",
      " 6   date                      647623 non-null  object \n",
      " 7   gbif_info/kingdom         613711 non-null  object \n",
      " 8   gbif_info/family          585083 non-null  object \n",
      " 9   gbif_info/speciesKey      411076 non-null  float64\n",
      " 10  gbif_info/rank            613749 non-null  object \n",
      " 11  gbif_info/phylum          610016 non-null  object \n",
      " 12  gbif_info/orderKey        606009 non-null  float64\n",
      " 13  gbif_info/species         411076 non-null  object \n",
      " 14  gbif_info/confidence      647480 non-null  float64\n",
      " 15  gbif_info/classKey        607709 non-null  float64\n",
      " 16  gbif_info/matchType       647480 non-null  object \n",
      " 17  gbif_info/familyKey       585083 non-null  float64\n",
      " 18  gbif_info/status          613749 non-null  object \n",
      " 19  gbif_info/usageKey        613749 non-null  float64\n",
      " 20  gbif_info/kingdomKey      613711 non-null  float64\n",
      " 21  gbif_info/genusKey        576098 non-null  float64\n",
      " 22  gbif_info/canonicalName   613749 non-null  object \n",
      " 23  gbif_info/phylumKey       610016 non-null  float64\n",
      " 24  gbif_info/class           607709 non-null  object \n",
      " 25  gbif_info/synonym         647480 non-null  object \n",
      " 26  gbif_info/scientificName  613749 non-null  object \n",
      " 27  gbif_info/genus           576098 non-null  object \n",
      " 28  gbif_info/order           606009 non-null  object \n",
      " 29  thumbnail                 647623 non-null  int64  \n",
      " 30  location                  647596 non-null  object \n",
      " 31  gbif_info/note            32699 non-null   object \n",
      " 32  gbif_info                 0 non-null       float64\n",
      "dtypes: float64(10), int64(2), object(21)\n",
      "memory usage: 163.1+ MB\n"
     ]
    }
   ],
   "source": [
    "initial_observation_numbers=observation_mushroom_raw.shape[0]\n",
    "observation_mushroom_raw.info()"
   ]
  },
  {
   "cell_type": "markdown",
   "id": "b1761cb9",
   "metadata": {},
   "source": [
    "### Duplicated values"
   ]
  },
  {
   "cell_type": "code",
   "execution_count": 39,
   "id": "3892641b",
   "metadata": {},
   "outputs": [],
   "source": [
    "observation_mushroom_raw_no_duplicates=observation_mushroom_raw.drop_duplicates()\n",
    "observation_numbers_no_duplicated=observation_mushroom_raw_no_duplicates.shape[0]"
   ]
  },
  {
   "cell_type": "markdown",
   "id": "da40b27b",
   "metadata": {},
   "source": [
    "### Remove unnecessary columns"
   ]
  },
  {
   "cell_type": "code",
   "execution_count": 40,
   "id": "3c2c8d9b",
   "metadata": {},
   "outputs": [],
   "source": [
    "initial_columns_nb=observation_mushroom_raw_no_duplicates.shape[1]\n",
    "\n",
    "\n",
    "columns_to_delete=[\n",
    "    \"observation\",\n",
    "    \"image_url\",\n",
    "    \"user\",\n",
    "    \"date\",\n",
    "    \"gbif_info/speciesKey\",\n",
    "    \"gbif_info/orderKey\",\n",
    "    \"gbif_info/confidence\",\n",
    "    \"gbif_info/classKey\",\n",
    "    \"gbif_info/matchType\",\n",
    "    \"gbif_info/familyKey\",\n",
    "    \"gbif_info/status\",\n",
    "    \"gbif_info/usageKey\",\n",
    "    \"gbif_info/kingdomKey\",\n",
    "    \"gbif_info/genusKey\",\n",
    "    \"gbif_info/phylumKey\",\n",
    "    \"gbif_info/synonym\",\n",
    "    \"thumbnail\",\n",
    "    \"location\",\n",
    "    \"gbif_info/note\",\n",
    "    \"gbif_info\",\n",
    "    \"gbif_info/scientificName\",\n",
    "    \"image_id\"\n",
    "]\n",
    "\n",
    "observation_mushroom_raw_no_duplicates_columns_cleaned=observation_mushroom_raw_no_duplicates.drop(columns=columns_to_delete, axis=1)\n",
    "new_columns_nb=observation_mushroom_raw_no_duplicates_columns_cleaned.shape[1]"
   ]
  },
  {
   "cell_type": "markdown",
   "id": "38a0bbde",
   "metadata": {},
   "source": [
    "### Remove 'gbif' name in columns"
   ]
  },
  {
   "cell_type": "code",
   "execution_count": 41,
   "id": "ebd76948",
   "metadata": {},
   "outputs": [],
   "source": [
    "columns_rename={\n",
    "    \"gbif_info/kingdom\":\"kingdom\",\n",
    "    \"gbif_info/phylum\":\"phylum\",\n",
    "    \"gbif_info/class\":\"class\",\n",
    "    \"gbif_info/order\":\"order\",\n",
    "    \"gbif_info/family\":\"family\",\n",
    "    \"gbif_info/genus\":\"genus\",\n",
    "    \"gbif_info/species\":\"species\",\n",
    "    \"gbif_info/canonicalName\":\"canonicalName\",\n",
    "    \"gbif_info/rank\":\"rank\",}"
   ]
  },
  {
   "cell_type": "code",
   "execution_count": 42,
   "id": "a3d8f0b5",
   "metadata": {},
   "outputs": [],
   "source": [
    "observation_mushroom_raw_no_duplicates_columns_cleaned_renamed=observation_mushroom_raw_no_duplicates_columns_cleaned.rename(columns=columns_rename)"
   ]
  },
  {
   "cell_type": "code",
   "execution_count": 43,
   "id": "70867063",
   "metadata": {},
   "outputs": [
    {
     "data": {
      "text/html": [
       "<div>\n",
       "<style scoped>\n",
       "    .dataframe tbody tr th:only-of-type {\n",
       "        vertical-align: middle;\n",
       "    }\n",
       "\n",
       "    .dataframe tbody tr th {\n",
       "        vertical-align: top;\n",
       "    }\n",
       "\n",
       "    .dataframe thead th {\n",
       "        text-align: right;\n",
       "    }\n",
       "</style>\n",
       "<table border=\"1\" class=\"dataframe\">\n",
       "  <thead>\n",
       "    <tr style=\"text-align: right;\">\n",
       "      <th></th>\n",
       "      <th>image_lien</th>\n",
       "      <th>label</th>\n",
       "      <th>kingdom</th>\n",
       "      <th>family</th>\n",
       "      <th>rank</th>\n",
       "      <th>phylum</th>\n",
       "      <th>species</th>\n",
       "      <th>canonicalName</th>\n",
       "      <th>class</th>\n",
       "      <th>genus</th>\n",
       "      <th>order</th>\n",
       "    </tr>\n",
       "  </thead>\n",
       "  <tbody>\n",
       "    <tr>\n",
       "      <th>0</th>\n",
       "      <td>1.jpg</td>\n",
       "      <td>Xylaria polymorpha</td>\n",
       "      <td>Fungi</td>\n",
       "      <td>Xylariaceae</td>\n",
       "      <td>SPECIES</td>\n",
       "      <td>Ascomycota</td>\n",
       "      <td>Xylaria polymorpha</td>\n",
       "      <td>Xylaria polymorpha</td>\n",
       "      <td>Sordariomycetes</td>\n",
       "      <td>Xylaria</td>\n",
       "      <td>Xylariales</td>\n",
       "    </tr>\n",
       "    <tr>\n",
       "      <th>1</th>\n",
       "      <td>2.jpg</td>\n",
       "      <td>Xylaria magnoliae</td>\n",
       "      <td>Fungi</td>\n",
       "      <td>Xylariaceae</td>\n",
       "      <td>SPECIES</td>\n",
       "      <td>Ascomycota</td>\n",
       "      <td>Xylaria magnoliae</td>\n",
       "      <td>Xylaria magnoliae</td>\n",
       "      <td>Sordariomycetes</td>\n",
       "      <td>Xylaria</td>\n",
       "      <td>Xylariales</td>\n",
       "    </tr>\n",
       "    <tr>\n",
       "      <th>2</th>\n",
       "      <td>3.jpg</td>\n",
       "      <td>Xylaria hypoxylon</td>\n",
       "      <td>Fungi</td>\n",
       "      <td>Xylariaceae</td>\n",
       "      <td>SPECIES</td>\n",
       "      <td>Ascomycota</td>\n",
       "      <td>Xylaria hypoxylon</td>\n",
       "      <td>Xylaria hypoxylon</td>\n",
       "      <td>Sordariomycetes</td>\n",
       "      <td>Xylaria</td>\n",
       "      <td>Xylariales</td>\n",
       "    </tr>\n",
       "    <tr>\n",
       "      <th>3</th>\n",
       "      <td>4.jpg</td>\n",
       "      <td>Xylaria hypoxylon</td>\n",
       "      <td>Fungi</td>\n",
       "      <td>Xylariaceae</td>\n",
       "      <td>SPECIES</td>\n",
       "      <td>Ascomycota</td>\n",
       "      <td>Xylaria hypoxylon</td>\n",
       "      <td>Xylaria hypoxylon</td>\n",
       "      <td>Sordariomycetes</td>\n",
       "      <td>Xylaria</td>\n",
       "      <td>Xylariales</td>\n",
       "    </tr>\n",
       "    <tr>\n",
       "      <th>4</th>\n",
       "      <td>5.jpg</td>\n",
       "      <td>Xeromphalina</td>\n",
       "      <td>Fungi</td>\n",
       "      <td>Mycenaceae</td>\n",
       "      <td>GENUS</td>\n",
       "      <td>Basidiomycota</td>\n",
       "      <td>NaN</td>\n",
       "      <td>Xeromphalina</td>\n",
       "      <td>Agaricomycetes</td>\n",
       "      <td>Xeromphalina</td>\n",
       "      <td>Agaricales</td>\n",
       "    </tr>\n",
       "  </tbody>\n",
       "</table>\n",
       "</div>"
      ],
      "text/plain": [
       "  image_lien               label kingdom       family     rank         phylum  \\\n",
       "0      1.jpg  Xylaria polymorpha   Fungi  Xylariaceae  SPECIES     Ascomycota   \n",
       "1      2.jpg   Xylaria magnoliae   Fungi  Xylariaceae  SPECIES     Ascomycota   \n",
       "2      3.jpg   Xylaria hypoxylon   Fungi  Xylariaceae  SPECIES     Ascomycota   \n",
       "3      4.jpg   Xylaria hypoxylon   Fungi  Xylariaceae  SPECIES     Ascomycota   \n",
       "4      5.jpg        Xeromphalina   Fungi   Mycenaceae    GENUS  Basidiomycota   \n",
       "\n",
       "              species       canonicalName            class         genus  \\\n",
       "0  Xylaria polymorpha  Xylaria polymorpha  Sordariomycetes       Xylaria   \n",
       "1   Xylaria magnoliae   Xylaria magnoliae  Sordariomycetes       Xylaria   \n",
       "2   Xylaria hypoxylon   Xylaria hypoxylon  Sordariomycetes       Xylaria   \n",
       "3   Xylaria hypoxylon   Xylaria hypoxylon  Sordariomycetes       Xylaria   \n",
       "4                 NaN        Xeromphalina   Agaricomycetes  Xeromphalina   \n",
       "\n",
       "        order  \n",
       "0  Xylariales  \n",
       "1  Xylariales  \n",
       "2  Xylariales  \n",
       "3  Xylariales  \n",
       "4  Agaricales  "
      ]
     },
     "execution_count": 43,
     "metadata": {},
     "output_type": "execute_result"
    }
   ],
   "source": [
    "observation_mushroom_raw_no_duplicates_columns_cleaned_renamed.head()"
   ]
  },
  {
   "cell_type": "markdown",
   "id": "ad0aa565",
   "metadata": {},
   "source": [
    "### Remove non Fungi images and observations"
   ]
  },
  {
   "cell_type": "code",
   "execution_count": 44,
   "id": "4a916fed",
   "metadata": {},
   "outputs": [],
   "source": [
    "observation_mushroom_raw_no_duplicates_columns_cleaned_renamed_only_fungi = observation_mushroom_raw_no_duplicates_columns_cleaned_renamed[observation_mushroom_raw_no_duplicates_columns_cleaned_renamed['kingdom']==\"Fungi\"]\n",
    "nb_imgs_kingdom_is_fungi=observation_mushroom_raw_no_duplicates_columns_cleaned_renamed_only_fungi.shape[0]\n"
   ]
  },
  {
   "cell_type": "code",
   "execution_count": 45,
   "id": "564fd3a6",
   "metadata": {},
   "outputs": [
    {
     "data": {
      "text/plain": [
       "image_lien            0\n",
       "label                 0\n",
       "kingdom               0\n",
       "family            27640\n",
       "rank                  0\n",
       "phylum             2242\n",
       "species          197425\n",
       "canonicalName         0\n",
       "class              3830\n",
       "genus             35129\n",
       "order              5424\n",
       "dtype: int64"
      ]
     },
     "execution_count": 45,
     "metadata": {},
     "output_type": "execute_result"
    }
   ],
   "source": [
    "observation_mushroom_raw_no_duplicates_columns_cleaned_renamed_only_fungi.isna().sum()"
   ]
  },
  {
   "cell_type": "markdown",
   "id": "f6373430",
   "metadata": {},
   "source": [
    "### NULL values"
   ]
  },
  {
   "cell_type": "code",
   "execution_count": 46,
   "id": "4d87285a",
   "metadata": {},
   "outputs": [],
   "source": [
    "observation_mushroom_raw_no_duplicates_columns_cleaned_renamed_only_fungi_no_null=observation_mushroom_raw_no_duplicates_columns_cleaned_renamed_only_fungi.dropna()"
   ]
  },
  {
   "cell_type": "code",
   "execution_count": 47,
   "id": "5071ff63",
   "metadata": {},
   "outputs": [],
   "source": [
    "number_imgs_no_null=observation_mushroom_raw_no_duplicates_columns_cleaned_renamed_only_fungi_no_null.isna().shape[0]"
   ]
  },
  {
   "cell_type": "markdown",
   "id": "09023b6e",
   "metadata": {},
   "source": [
    "### Remove non \"species\" values for 'rank'"
   ]
  },
  {
   "cell_type": "code",
   "execution_count": 48,
   "id": "c9dbaa40",
   "metadata": {},
   "outputs": [],
   "source": [
    "observation_mushroom_raw_no_duplicates_columns_cleaned_renamed_only_fungi_no_null_sorted_rank=observation_mushroom_raw_no_duplicates_columns_cleaned_renamed_only_fungi_no_null[observation_mushroom_raw_no_duplicates_columns_cleaned_renamed_only_fungi_no_null['rank']=='SPECIES']\n",
    "nb_imgs_sorted_rank=observation_mushroom_raw_no_duplicates_columns_cleaned_renamed_only_fungi_no_null_sorted_rank.shape[0]"
   ]
  },
  {
   "cell_type": "markdown",
   "id": "732c1cbb",
   "metadata": {},
   "source": [
    "### Prépare datas "
   ]
  },
  {
   "cell_type": "markdown",
   "id": "45272a15",
   "metadata": {},
   "source": [
    "Scientific specy classification:\n",
    "- Domain\n",
    "- Kingdom\n",
    "- Phylum\n",
    "- Class\n",
    "- Order\n",
    "- Family\n",
    "- Genus\n",
    "- Species"
   ]
  },
  {
   "cell_type": "code",
   "execution_count": 49,
   "id": "da1101e6",
   "metadata": {},
   "outputs": [],
   "source": [
    "cleaned_dataset=observation_mushroom_raw_no_duplicates_columns_cleaned_renamed_only_fungi_no_null_sorted_rank.copy()"
   ]
  },
  {
   "cell_type": "code",
   "execution_count": 50,
   "id": "117f229a",
   "metadata": {},
   "outputs": [],
   "source": [
    "cleaned_dataset.drop(columns=[\"kingdom\", \"rank\"], inplace=True)\n",
    "cleaned_dataset.drop_duplicates(subset='image_lien', keep=\"first\", inplace=True)"
   ]
  },
  {
   "cell_type": "code",
   "execution_count": null,
   "id": "16a8961d",
   "metadata": {},
   "outputs": [],
   "source": [
    "old_shape = cleaned_dataset.shape\n",
    "\n",
    "# Remove images that are not in the dataset\n",
    "csv_url = \"../../storage/datas/csv/clean/cleaned_dataset.csv\"\n",
    "move_files_to_folder(csv_url = csv_url)\n",
    "\n",
    "# Refer to ../logs/move_files_to_folder.log for more information\n",
    "\n",
    "new_shape = cleaned_dataset.shape\n",
    "print(f\"old shape: {old_shape} \\n new shape: {new_shape} \\n {old_shape[0] - new_shape[0]} images removed from the dataset\")\n",
    "\n",
    "# The cleaned dataset is saved by the function"
   ]
  },
  {
   "cell_type": "code",
   "execution_count": null,
   "id": "15636c49",
   "metadata": {},
   "outputs": [],
   "source": [
    "\"\"\" REVERSE \"\"\""
   ]
  },
  {
   "cell_type": "code",
   "execution_count": null,
   "id": "35e273f7",
   "metadata": {},
   "outputs": [],
   "source": [
    "# If needed, reverse the operation (Do not reverse cleaned dataset new shape ; it will be different ; use section 1 to recreate the cleaned dataset)\n",
    "source = \"/home/guillaume/Téléchargements/mushroom-dataset/mushroom_images_dataset/imgs_in_cleaned_dataset\"\n",
    "destination = \"/home/guillaume/Téléchargements/mushroom-dataset/mushroom_images_dataset/observations_mushroom\"\n",
    "\n",
    "import os\n",
    "import shutil\n",
    "for file in os.listdir(source):\n",
    "    shutil.move(os.path.join(source, file), destination)"
   ]
  },
  {
   "cell_type": "code",
   "execution_count": null,
   "id": "020d8d96",
   "metadata": {},
   "outputs": [],
   "source": [
    "\"\"\" END REVERSE \"\"\""
   ]
  },
  {
   "cell_type": "code",
   "execution_count": 53,
   "id": "ba9c8228",
   "metadata": {},
   "outputs": [],
   "source": [
    "cleaned_dataset.to_csv(\"\", index=False)"
   ]
  },
  {
   "cell_type": "markdown",
   "id": "48e17b4f",
   "metadata": {},
   "source": [
    "## 2 - Get image datas"
   ]
  },
  {
   "cell_type": "markdown",
   "id": "47fddbaa",
   "metadata": {},
   "source": [
    "### Lib"
   ]
  },
  {
   "cell_type": "code",
   "execution_count": 74,
   "id": "835cb393",
   "metadata": {},
   "outputs": [],
   "source": [
    "import cv2\n",
    "import numpy as np\n",
    "import pandas as pd\n",
    "pd.set_option('display.max_columns', None)"
   ]
  },
  {
   "cell_type": "markdown",
   "id": "43dc90c8",
   "metadata": {},
   "source": [
    "### Vars"
   ]
  },
  {
   "cell_type": "code",
   "execution_count": 75,
   "id": "213117af",
   "metadata": {},
   "outputs": [],
   "source": [
    "# File URL\n",
    "clean_csv_url=\"../../storage/datas/csv/clean/cleaned_dataset.csv\"\n",
    "# Img URL\n",
    "img_url = \"/home/guillaume/Téléchargements/mushroom-dataset/imgs_in_cleaned_dataset/\"\n",
    "\n",
    "# Load CSV as DF\n",
    "cleaned_dataset = pd.read_csv(clean_csv_url, low_memory=False)\n",
    "\n",
    "# Change path to img in the dataset\n",
    "cleaned_dataset['image_lien'] = cleaned_dataset['image_lien'].apply(lambda x: img_url + x)"
   ]
  },
  {
   "cell_type": "markdown",
   "id": "f3bee2d5",
   "metadata": {},
   "source": [
    "### Img features"
   ]
  },
  {
   "cell_type": "code",
   "execution_count": 76,
   "id": "5d7bb945",
   "metadata": {},
   "outputs": [],
   "source": [
    "def addFeaturestoDF(df, image_url_col):\n",
    "    \"\"\"\n",
    "    Adds image features to a DataFrame.\n",
    "\n",
    "    Parameters:\n",
    "    df (pandas.DataFrame): The DataFrame to which the features will be added.\n",
    "    image_url_col (str): The name of the column in the DataFrame that contains the image URLs or file paths.\n",
    "\n",
    "    Returns:\n",
    "    pandas.DataFrame: The DataFrame with the added image features.\n",
    "\n",
    "    \"\"\"\n",
    "\n",
    "    def extract_features(img_url):\n",
    "        \"\"\"\n",
    "        Extracts features from an image.\n",
    "\n",
    "        Parameters:\n",
    "        img_url (str): The URL or file path of the image.\n",
    "\n",
    "        Returns:\n",
    "        dict: A dictionary containing the extracted features:\n",
    "            - 'width': The width of the image.\n",
    "            - 'height': The height of the image.\n",
    "            - 'red_color_mean': The average red channel value of the image.\n",
    "            - 'green_color_mean': The average green channel value of the image.\n",
    "            - 'blue_color_mean': The average blue channel value of the image.\n",
    "        \"\"\"\n",
    "        img = cv2.imread(img_url)\n",
    "        height, width, channels = img.shape\n",
    "        features = {\n",
    "            'width': width,\n",
    "            'height': height,\n",
    "            'red_color_mean': np.mean(img[:,:,2]),\n",
    "            'green_color_mean': np.mean(img[:,:,1]),\n",
    "            'blue_color_mean': np.mean(img[:,:,0])\n",
    "        }\n",
    "        \n",
    "        return features\n",
    "    \n",
    "\n",
    "    features_list = []\n",
    "\n",
    "    for index, row in df.iterrows():\n",
    "        filepath = row[image_url_col]\n",
    "        features = extract_features(filepath)\n",
    "        features_list.append(features)\n",
    "\n",
    "    features_df = pd.DataFrame(features_list)\n",
    "    features_df['all_color_mean'] = (features_df['red_color_mean']\\\n",
    "                                     + features_df['green_color_mean']\\\n",
    "                                     + features_df['blue_color_mean'])\\\n",
    "                                     / 3\n",
    "    \n",
    "    df_with_features = pd.concat([df, features_df], axis=1)\n",
    "    return df_with_features"
   ]
  },
  {
   "cell_type": "code",
   "execution_count": 77,
   "id": "31a38365",
   "metadata": {},
   "outputs": [],
   "source": [
    "# Add image features to the DataFrame\n",
    "cleaned_dataset_with_features = addFeaturestoDF(df = cleaned_dataset,\n",
    "                                                image_url_col = 'image_lien')"
   ]
  },
  {
   "cell_type": "code",
   "execution_count": 78,
   "id": "01193658",
   "metadata": {},
   "outputs": [
    {
     "data": {
      "text/html": [
       "<div>\n",
       "<style scoped>\n",
       "    .dataframe tbody tr th:only-of-type {\n",
       "        vertical-align: middle;\n",
       "    }\n",
       "\n",
       "    .dataframe tbody tr th {\n",
       "        vertical-align: top;\n",
       "    }\n",
       "\n",
       "    .dataframe thead th {\n",
       "        text-align: right;\n",
       "    }\n",
       "</style>\n",
       "<table border=\"1\" class=\"dataframe\">\n",
       "  <thead>\n",
       "    <tr style=\"text-align: right;\">\n",
       "      <th></th>\n",
       "      <th>image_lien</th>\n",
       "      <th>label</th>\n",
       "      <th>family</th>\n",
       "      <th>phylum</th>\n",
       "      <th>species</th>\n",
       "      <th>canonicalName</th>\n",
       "      <th>class</th>\n",
       "      <th>genus</th>\n",
       "      <th>order</th>\n",
       "      <th>width</th>\n",
       "      <th>height</th>\n",
       "      <th>red_color_mean</th>\n",
       "      <th>green_color_mean</th>\n",
       "      <th>blue_color_mean</th>\n",
       "      <th>all_color_mean</th>\n",
       "    </tr>\n",
       "  </thead>\n",
       "  <tbody>\n",
       "    <tr>\n",
       "      <th>0</th>\n",
       "      <td>/home/guillaume/Téléchargements/mushroom-datas...</td>\n",
       "      <td>Xylaria polymorpha</td>\n",
       "      <td>Xylariaceae</td>\n",
       "      <td>Ascomycota</td>\n",
       "      <td>Xylaria polymorpha</td>\n",
       "      <td>Xylaria polymorpha</td>\n",
       "      <td>Sordariomycetes</td>\n",
       "      <td>Xylaria</td>\n",
       "      <td>Xylariales</td>\n",
       "      <td>320</td>\n",
       "      <td>240</td>\n",
       "      <td>77.321185</td>\n",
       "      <td>72.687839</td>\n",
       "      <td>70.582227</td>\n",
       "      <td>73.530417</td>\n",
       "    </tr>\n",
       "    <tr>\n",
       "      <th>1</th>\n",
       "      <td>/home/guillaume/Téléchargements/mushroom-datas...</td>\n",
       "      <td>Xylaria magnoliae</td>\n",
       "      <td>Xylariaceae</td>\n",
       "      <td>Ascomycota</td>\n",
       "      <td>Xylaria magnoliae</td>\n",
       "      <td>Xylaria magnoliae</td>\n",
       "      <td>Sordariomycetes</td>\n",
       "      <td>Xylaria</td>\n",
       "      <td>Xylariales</td>\n",
       "      <td>320</td>\n",
       "      <td>240</td>\n",
       "      <td>71.123307</td>\n",
       "      <td>64.609049</td>\n",
       "      <td>62.255977</td>\n",
       "      <td>65.996111</td>\n",
       "    </tr>\n",
       "    <tr>\n",
       "      <th>2</th>\n",
       "      <td>/home/guillaume/Téléchargements/mushroom-datas...</td>\n",
       "      <td>Xylaria hypoxylon</td>\n",
       "      <td>Xylariaceae</td>\n",
       "      <td>Ascomycota</td>\n",
       "      <td>Xylaria hypoxylon</td>\n",
       "      <td>Xylaria hypoxylon</td>\n",
       "      <td>Sordariomycetes</td>\n",
       "      <td>Xylaria</td>\n",
       "      <td>Xylariales</td>\n",
       "      <td>320</td>\n",
       "      <td>240</td>\n",
       "      <td>84.582305</td>\n",
       "      <td>70.401758</td>\n",
       "      <td>54.611263</td>\n",
       "      <td>69.865109</td>\n",
       "    </tr>\n",
       "    <tr>\n",
       "      <th>3</th>\n",
       "      <td>/home/guillaume/Téléchargements/mushroom-datas...</td>\n",
       "      <td>Xylaria hypoxylon</td>\n",
       "      <td>Xylariaceae</td>\n",
       "      <td>Ascomycota</td>\n",
       "      <td>Xylaria hypoxylon</td>\n",
       "      <td>Xylaria hypoxylon</td>\n",
       "      <td>Sordariomycetes</td>\n",
       "      <td>Xylaria</td>\n",
       "      <td>Xylariales</td>\n",
       "      <td>240</td>\n",
       "      <td>320</td>\n",
       "      <td>28.234687</td>\n",
       "      <td>27.118841</td>\n",
       "      <td>23.883490</td>\n",
       "      <td>26.412339</td>\n",
       "    </tr>\n",
       "    <tr>\n",
       "      <th>4</th>\n",
       "      <td>/home/guillaume/Téléchargements/mushroom-datas...</td>\n",
       "      <td>Xeromphalina campanella</td>\n",
       "      <td>Mycenaceae</td>\n",
       "      <td>Basidiomycota</td>\n",
       "      <td>Xeromphalina campanella</td>\n",
       "      <td>Xeromphalina campanella</td>\n",
       "      <td>Agaricomycetes</td>\n",
       "      <td>Xeromphalina</td>\n",
       "      <td>Agaricales</td>\n",
       "      <td>240</td>\n",
       "      <td>320</td>\n",
       "      <td>41.552617</td>\n",
       "      <td>35.021029</td>\n",
       "      <td>26.419349</td>\n",
       "      <td>34.330998</td>\n",
       "    </tr>\n",
       "  </tbody>\n",
       "</table>\n",
       "</div>"
      ],
      "text/plain": [
       "                                          image_lien                    label  \\\n",
       "0  /home/guillaume/Téléchargements/mushroom-datas...       Xylaria polymorpha   \n",
       "1  /home/guillaume/Téléchargements/mushroom-datas...        Xylaria magnoliae   \n",
       "2  /home/guillaume/Téléchargements/mushroom-datas...        Xylaria hypoxylon   \n",
       "3  /home/guillaume/Téléchargements/mushroom-datas...        Xylaria hypoxylon   \n",
       "4  /home/guillaume/Téléchargements/mushroom-datas...  Xeromphalina campanella   \n",
       "\n",
       "        family         phylum                  species  \\\n",
       "0  Xylariaceae     Ascomycota       Xylaria polymorpha   \n",
       "1  Xylariaceae     Ascomycota        Xylaria magnoliae   \n",
       "2  Xylariaceae     Ascomycota        Xylaria hypoxylon   \n",
       "3  Xylariaceae     Ascomycota        Xylaria hypoxylon   \n",
       "4   Mycenaceae  Basidiomycota  Xeromphalina campanella   \n",
       "\n",
       "             canonicalName            class         genus       order  width  \\\n",
       "0       Xylaria polymorpha  Sordariomycetes       Xylaria  Xylariales    320   \n",
       "1        Xylaria magnoliae  Sordariomycetes       Xylaria  Xylariales    320   \n",
       "2        Xylaria hypoxylon  Sordariomycetes       Xylaria  Xylariales    320   \n",
       "3        Xylaria hypoxylon  Sordariomycetes       Xylaria  Xylariales    240   \n",
       "4  Xeromphalina campanella   Agaricomycetes  Xeromphalina  Agaricales    240   \n",
       "\n",
       "   height  red_color_mean  green_color_mean  blue_color_mean  all_color_mean  \n",
       "0     240       77.321185         72.687839        70.582227       73.530417  \n",
       "1     240       71.123307         64.609049        62.255977       65.996111  \n",
       "2     240       84.582305         70.401758        54.611263       69.865109  \n",
       "3     320       28.234687         27.118841        23.883490       26.412339  \n",
       "4     320       41.552617         35.021029        26.419349       34.330998  "
      ]
     },
     "execution_count": 78,
     "metadata": {},
     "output_type": "execute_result"
    }
   ],
   "source": [
    "cleaned_dataset_with_features.head()"
   ]
  },
  {
   "cell_type": "code",
   "execution_count": 79,
   "id": "5f0415d8",
   "metadata": {},
   "outputs": [],
   "source": [
    "# Removing bad dimension images\n",
    "cleaned_dataset_with_features_and_dimensions = cleaned_dataset_with_features[(cleaned_dataset_with_features['width'] > 200) & (cleaned_dataset_with_features['height'] > 200)]"
   ]
  },
  {
   "cell_type": "code",
   "execution_count": 81,
   "id": "1697454c",
   "metadata": {},
   "outputs": [],
   "source": [
    "cleaned_dataset_with_features_and_dimensions.to_csv('../../storage/datas/csv/clean/cleaned_dataset_with_features_and_dimensions.csv', index=False)"
   ]
  },
  {
   "cell_type": "markdown",
   "id": "dc49e53a",
   "metadata": {},
   "source": [
    "### Resume"
   ]
  },
  {
   "cell_type": "code",
   "execution_count": 82,
   "id": "278138d7",
   "metadata": {},
   "outputs": [
    {
     "name": "stdout",
     "output_type": "stream",
     "text": [
      "Number of images, raw file: 647623\n",
      "Number of images, duplicated removed: 647615\n",
      "Number of images, only fungi: 600439\n",
      "Number of images, no null values: 398798\n",
      "Number of images, only species: 388733\n",
      "columns number, old: 33 ; new: 11 \n",
      "\n"
     ]
    }
   ],
   "source": [
    "print(f\"Number of images, raw file: {initial_observation_numbers}\")\n",
    "print(f\"Number of images, duplicated removed: {observation_numbers_no_duplicated}\")\n",
    "print(f\"Number of images, only fungi: {nb_imgs_kingdom_is_fungi}\")\n",
    "print(f\"Number of images, no null values: {number_imgs_no_null}\")\n",
    "print(f\"Number of images, only species: {nb_imgs_sorted_rank}\")\n",
    "\n",
    "print(f\"columns number, old: {initial_columns_nb} ; new: {new_columns_nb} \\n\")"
   ]
  }
 ],
 "metadata": {
  "kernelspec": {
   "display_name": "Python 3 (ipykernel)",
   "language": "python",
   "name": "python3"
  },
  "language_info": {
   "codemirror_mode": {
    "name": "ipython",
    "version": 3
   },
   "file_extension": ".py",
   "mimetype": "text/x-python",
   "name": "python",
   "nbconvert_exporter": "python",
   "pygments_lexer": "ipython3",
   "version": "3.10.12"
  }
 },
 "nbformat": 4,
 "nbformat_minor": 5
}
