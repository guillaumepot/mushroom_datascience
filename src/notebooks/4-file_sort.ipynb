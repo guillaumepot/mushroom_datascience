{
 "cells": [
  {
   "cell_type": "markdown",
   "metadata": {},
   "source": [
    "## 4 - File Sort"
   ]
  },
  {
   "cell_type": "markdown",
   "metadata": {},
   "source": [
    "### Lib"
   ]
  },
  {
   "cell_type": "code",
   "execution_count": 4,
   "metadata": {},
   "outputs": [],
   "source": [
    "import pandas as pd\n",
    "\n",
    "import sys\n",
    "sys.path.append(\"../\")\n",
    "\n",
    "from utils.file_processing import copy_files_to_folder, make_file_list_as_csv"
   ]
  },
  {
   "cell_type": "markdown",
   "metadata": {},
   "source": [
    "### Vars"
   ]
  },
  {
   "cell_type": "code",
   "execution_count": 2,
   "metadata": {},
   "outputs": [],
   "source": [
    "csv_url = \"../../storage/datas/csv/clean/cleaned_dataset_with_features_and_dimensions_top_10_species.csv\"\n",
    "image_base_url=\"/home/guillaume/Téléchargements/mushroom_images_dataset/images/\"\n",
    "image_in_dataset_url = \"/home/guillaume/Téléchargements/mushroom_images_dataset/cleaned_dataset/\"\n",
    "bad_images_moved_url = \"/home/guillaume/Téléchargements/mushroom_images_dataset/bad_images_moved/\"\n",
    "\n",
    "cleaned_dataset = pd.read_csv(csv_url, low_memory=False)"
   ]
  },
  {
   "cell_type": "markdown",
   "metadata": {},
   "source": [
    "### Auto sort files"
   ]
  },
  {
   "cell_type": "code",
   "execution_count": 5,
   "metadata": {},
   "outputs": [],
   "source": [
    "# Move images in the DF to another folder\n",
    "copy_files_to_folder(csv_url,\n",
    "                     column = \"image_lien\",\n",
    "                     source = image_base_url,\n",
    "                     destination = image_in_dataset_url,\n",
    "                     auto_clean_csv = False)\n",
    "\n",
    "# Refer to ../logs/move_files_to_folder.log for more informations"
   ]
  },
  {
   "cell_type": "markdown",
   "metadata": {},
   "source": [
    "### Remove bad images"
   ]
  },
  {
   "cell_type": "code",
   "execution_count": 11,
   "metadata": {},
   "outputs": [],
   "source": [
    "# Bad images are manually moved from image_in_dataset_url to bad_images_moved_url\n",
    "    # I manually sorted ~1255imgs to bad_images_moved_url\n",
    "        # These imgs are added to the storage here : ../../storage/datas/imgs/bad_images/\n",
    "storage_bad_image_url = \"../../storage/datas/imgs/bad_images/\""
   ]
  },
  {
   "cell_type": "code",
   "execution_count": 6,
   "metadata": {},
   "outputs": [],
   "source": [
    "# Make a csv file with the list of bad images\n",
    "make_file_list_as_csv(file_name=\"bad_images_moved\")"
   ]
  },
  {
   "cell_type": "code",
   "execution_count": 16,
   "metadata": {},
   "outputs": [],
   "source": [
    "# Load generated csv as DF\n",
    "bad_imgs_df = pd.read_csv(\"../../storage/datas/csv/clean/bad_images_moved.csv\", low_memory=False)\n",
    "\n",
    "\n",
    "# Add a column with the path for each imgs\n",
    "bad_imgs_df[\"image_path\"] = bad_imgs_df[\"image_found\"].apply(lambda x : storage_bad_image_url + x)\n",
    "\n",
    "# Save as csv\n",
    "bad_imgs_df.to_csv(\"../../storage/datas/csv/clean/bad_images_moved.csv\", index=False)"
   ]
  },
  {
   "cell_type": "code",
   "execution_count": 18,
   "metadata": {},
   "outputs": [
    {
     "data": {
      "text/html": [
       "<div>\n",
       "<style scoped>\n",
       "    .dataframe tbody tr th:only-of-type {\n",
       "        vertical-align: middle;\n",
       "    }\n",
       "\n",
       "    .dataframe tbody tr th {\n",
       "        vertical-align: top;\n",
       "    }\n",
       "\n",
       "    .dataframe thead th {\n",
       "        text-align: right;\n",
       "    }\n",
       "</style>\n",
       "<table border=\"1\" class=\"dataframe\">\n",
       "  <thead>\n",
       "    <tr style=\"text-align: right;\">\n",
       "      <th></th>\n",
       "      <th>image_found</th>\n",
       "      <th>image_path</th>\n",
       "    </tr>\n",
       "  </thead>\n",
       "  <tbody>\n",
       "    <tr>\n",
       "      <th>0</th>\n",
       "      <td>1613.jpg</td>\n",
       "      <td>../../storage/datas/imgs/bad_images/1613.jpg</td>\n",
       "    </tr>\n",
       "    <tr>\n",
       "      <th>1</th>\n",
       "      <td>4760.jpg</td>\n",
       "      <td>../../storage/datas/imgs/bad_images/4760.jpg</td>\n",
       "    </tr>\n",
       "    <tr>\n",
       "      <th>2</th>\n",
       "      <td>5379.jpg</td>\n",
       "      <td>../../storage/datas/imgs/bad_images/5379.jpg</td>\n",
       "    </tr>\n",
       "    <tr>\n",
       "      <th>3</th>\n",
       "      <td>6630.jpg</td>\n",
       "      <td>../../storage/datas/imgs/bad_images/6630.jpg</td>\n",
       "    </tr>\n",
       "    <tr>\n",
       "      <th>4</th>\n",
       "      <td>6631.jpg</td>\n",
       "      <td>../../storage/datas/imgs/bad_images/6631.jpg</td>\n",
       "    </tr>\n",
       "  </tbody>\n",
       "</table>\n",
       "</div>"
      ],
      "text/plain": [
       "  image_found                                    image_path\n",
       "0    1613.jpg  ../../storage/datas/imgs/bad_images/1613.jpg\n",
       "1    4760.jpg  ../../storage/datas/imgs/bad_images/4760.jpg\n",
       "2    5379.jpg  ../../storage/datas/imgs/bad_images/5379.jpg\n",
       "3    6630.jpg  ../../storage/datas/imgs/bad_images/6630.jpg\n",
       "4    6631.jpg  ../../storage/datas/imgs/bad_images/6631.jpg"
      ]
     },
     "execution_count": 18,
     "metadata": {},
     "output_type": "execute_result"
    }
   ],
   "source": [
    "bad_imgs_df.head()"
   ]
  },
  {
   "cell_type": "markdown",
   "metadata": {},
   "source": [
    "### Remove bad images lines from our cleaned dataset"
   ]
  },
  {
   "cell_type": "code",
   "execution_count": 19,
   "metadata": {},
   "outputs": [],
   "source": [
    "cleaned_dataset = pd.read_csv(csv_url, low_memory=False)"
   ]
  },
  {
   "cell_type": "code",
   "execution_count": 27,
   "metadata": {},
   "outputs": [],
   "source": [
    "# Remove bad images from the cleaned_dataset\n",
    "cleaned_dataset = cleaned_dataset[~cleaned_dataset[\"image_lien\"].isin(bad_imgs_df[\"image_found\"])]\n",
    "\n",
    "\n",
    "# Update the csv file\n",
    "cleaned_dataset.to_csv(csv_url, index=False)"
   ]
  }
 ],
 "metadata": {
  "kernelspec": {
   "display_name": ".venv",
   "language": "python",
   "name": "python3"
  },
  "language_info": {
   "codemirror_mode": {
    "name": "ipython",
    "version": 3
   },
   "file_extension": ".py",
   "mimetype": "text/x-python",
   "name": "python",
   "nbconvert_exporter": "python",
   "pygments_lexer": "ipython3",
   "version": "3.10.12"
  }
 },
 "nbformat": 4,
 "nbformat_minor": 2
}
