{
 "cells": [
  {
   "cell_type": "markdown",
   "metadata": {},
   "source": [
    "## 4 - File Sort"
   ]
  },
  {
   "cell_type": "markdown",
   "metadata": {},
   "source": [
    "### Lib"
   ]
  },
  {
   "cell_type": "code",
   "execution_count": 1,
   "metadata": {},
   "outputs": [],
   "source": [
    "import pandas as pd\n",
    "\n",
    "import sys\n",
    "sys.path.append(\"../\")\n",
    "\n",
    "from utils.file_processing import copy_files_to_folder"
   ]
  },
  {
   "cell_type": "markdown",
   "metadata": {},
   "source": [
    "### Vars"
   ]
  },
  {
   "cell_type": "code",
   "execution_count": 2,
   "metadata": {},
   "outputs": [],
   "source": [
    "csv_url = \"../../storage/datas/csv/clean/cleaned_dataset_with_features_and_dimensions_top_10_species.csv\"\n",
    "image_base_url=\"/home/guillaume/Téléchargements/mushroom_images_dataset/images/\"\n",
    "image_in_dataset_url = \"/home/guillaume/Téléchargements/mushroom_images_dataset/cleaned_dataset/\"\n",
    "bad_images_moved_url = \"/home/guillaume/Téléchargements/mushroom_images_dataset/bad_images_moved/\"\n",
    "\n",
    "cleaned_dataset = pd.read_csv(csv_url, low_memory=False)"
   ]
  },
  {
   "cell_type": "markdown",
   "metadata": {},
   "source": [
    "### Auto sort files (1)"
   ]
  },
  {
   "cell_type": "code",
   "execution_count": 5,
   "metadata": {},
   "outputs": [],
   "source": [
    "# Move images in the DF to another folder\n",
    "copy_files_to_folder(csv_url,\n",
    "                     column = \"image_lien\",\n",
    "                     source = image_base_url,\n",
    "                     destination = image_in_dataset_url,\n",
    "                     auto_clean_csv = False)\n",
    "\n",
    "# Refer to ../logs/move_files_to_folder.log for more informations"
   ]
  },
  {
   "cell_type": "markdown",
   "metadata": {},
   "source": [
    "### Remove bad images"
   ]
  },
  {
   "cell_type": "code",
   "execution_count": null,
   "metadata": {},
   "outputs": [],
   "source": [
    "# Bad images are manually moved from image_in_dataset_url to bad_images_moved_url"
   ]
  },
  {
   "cell_type": "code",
   "execution_count": null,
   "metadata": {},
   "outputs": [],
   "source": [
    "Créer un DF contenant les mauvaises images \n",
    "Modifier le CSV pour retirer les mauvaises images (enregistrer sous un nouveau nom)"
   ]
  }
 ],
 "metadata": {
  "kernelspec": {
   "display_name": ".venv",
   "language": "python",
   "name": "python3"
  },
  "language_info": {
   "codemirror_mode": {
    "name": "ipython",
    "version": 3
   },
   "file_extension": ".py",
   "mimetype": "text/x-python",
   "name": "python",
   "nbconvert_exporter": "python",
   "pygments_lexer": "ipython3",
   "version": "3.10.12"
  }
 },
 "nbformat": 4,
 "nbformat_minor": 2
}
