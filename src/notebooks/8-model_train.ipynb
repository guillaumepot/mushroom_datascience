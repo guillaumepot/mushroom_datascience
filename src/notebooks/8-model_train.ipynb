{
 "cells": [
  {
   "cell_type": "markdown",
   "metadata": {},
   "source": [
    "## G Colab"
   ]
  },
  {
   "cell_type": "code",
   "execution_count": 1,
   "metadata": {},
   "outputs": [],
   "source": [
    "colab_env = False"
   ]
  },
  {
   "cell_type": "code",
   "execution_count": null,
   "metadata": {},
   "outputs": [],
   "source": [
    "print('Mounting Gdrive')\n",
    "from google.colab import drive\n",
    "drive.mount('/content/drive')\n",
    "\n",
    "import sys\n",
    "sys.path.append('/content/drive/MyDrive/')\n",
    "\n",
    "\n",
    "colab_env = True"
   ]
  },
  {
   "cell_type": "markdown",
   "metadata": {},
   "source": [
    "## Lib"
   ]
  },
  {
   "cell_type": "code",
   "execution_count": 2,
   "metadata": {},
   "outputs": [
    {
     "name": "stderr",
     "output_type": "stream",
     "text": [
      "2024-04-25 10:55:39.200587: I tensorflow/core/util/port.cc:113] oneDNN custom operations are on. You may see slightly different numerical results due to floating-point round-off errors from different computation orders. To turn them off, set the environment variable `TF_ENABLE_ONEDNN_OPTS=0`.\n",
      "2024-04-25 10:55:40.108853: I tensorflow/core/platform/cpu_feature_guard.cc:210] This TensorFlow binary is optimized to use available CPU instructions in performance-critical operations.\n",
      "To enable the following instructions: AVX2 AVX512F AVX512_VNNI FMA, in other operations, rebuild TensorFlow with the appropriate compiler flags.\n",
      "2024-04-25 10:55:41.106739: W tensorflow/compiler/tf2tensorrt/utils/py_utils.cc:38] TF-TRT Warning: Could not find TensorRT\n"
     ]
    }
   ],
   "source": [
    "import os\n",
    "import tensorflow as tf\n",
    "import keras\n",
    "import pickle\n",
    "\n",
    "from mlflow import MlflowClient\n",
    "import mlflow.tensorflow"
   ]
  },
  {
   "cell_type": "code",
   "execution_count": 2,
   "metadata": {},
   "outputs": [
    {
     "name": "stderr",
     "output_type": "stream",
     "text": [
      "2024-04-25 09:25:54.275700: I external/local_xla/xla/stream_executor/cuda/cuda_executor.cc:998] successful NUMA node read from SysFS had negative value (-1), but there must be at least one NUMA node, so returning NUMA node zero. See more at https://github.com/torvalds/linux/blob/v6.0/Documentation/ABI/testing/sysfs-bus-pci#L344-L355\n",
      "2024-04-25 09:25:54.312990: I external/local_xla/xla/stream_executor/cuda/cuda_executor.cc:998] successful NUMA node read from SysFS had negative value (-1), but there must be at least one NUMA node, so returning NUMA node zero. See more at https://github.com/torvalds/linux/blob/v6.0/Documentation/ABI/testing/sysfs-bus-pci#L344-L355\n",
      "2024-04-25 09:25:54.313137: I external/local_xla/xla/stream_executor/cuda/cuda_executor.cc:998] successful NUMA node read from SysFS had negative value (-1), but there must be at least one NUMA node, so returning NUMA node zero. See more at https://github.com/torvalds/linux/blob/v6.0/Documentation/ABI/testing/sysfs-bus-pci#L344-L355\n"
     ]
    },
    {
     "data": {
      "text/plain": [
       "[PhysicalDevice(name='/physical_device:GPU:0', device_type='GPU')]"
      ]
     },
     "execution_count": 2,
     "metadata": {},
     "output_type": "execute_result"
    }
   ],
   "source": [
    "tf.config.experimental.list_physical_devices('GPU')"
   ]
  },
  {
   "cell_type": "markdown",
   "metadata": {},
   "source": [
    "## Vars"
   ]
  },
  {
   "cell_type": "code",
   "execution_count": 3,
   "metadata": {},
   "outputs": [],
   "source": [
    "epochs = 25\n",
    "learning_rate = 1e-4"
   ]
  },
  {
   "cell_type": "code",
   "execution_count": 4,
   "metadata": {},
   "outputs": [],
   "source": [
    "if colab_env == True:\n",
    "    model_path = \"/content/drive/MyDrive/ml_projects/mushroom-project/storage/models/builded/generated_model_efficientnetv2_21k_finetuned_1k_v1.keras\"\n",
    "    train_dataset_path = \"/content/drive/MyDrive/ml_projects/mushroom-project/storage/datas/tf_datasets/train_dataset\"\n",
    "    val_dataset_path = \"/content/drive/MyDrive/ml_projects/mushroom-project/storage/datas/tf_datasets/val_dataset\"\n",
    "    tracking_uri = \"/content/drive/MyDrive/ml_projects/mushroom-project/storage/mlruns\"\n",
    "    model_checkpoint_url = \"./content/drive/MyDrive/ml_projects/mushroom-project/storage/models/model_checkpoint\"    \n",
    "\n",
    "else:\n",
    "    model_path = \"../../storage/models/builded/generated_model_efficientnetv2_21k_finetuned_1k_v1.keras\"\n",
    "    train_dataset_path = \"../../storage/datas/tf_datasets/train_dataset\"\n",
    "    val_dataset_path = \"../../storage/datas/tf_datasets/val_dataset\"\n",
    "    tracking_uri = \"../../storage/mlruns\"\n",
    "    model_checkpoint_url = \"../../storage/models/model_checkpoint\""
   ]
  },
  {
   "cell_type": "markdown",
   "metadata": {},
   "source": [
    "## Load model & Datasets"
   ]
  },
  {
   "cell_type": "markdown",
   "metadata": {},
   "source": [
    "### Model"
   ]
  },
  {
   "cell_type": "code",
   "execution_count": 5,
   "metadata": {},
   "outputs": [
    {
     "name": "stderr",
     "output_type": "stream",
     "text": [
      "2024-04-25 10:55:52.408320: I external/local_xla/xla/stream_executor/cuda/cuda_executor.cc:998] successful NUMA node read from SysFS had negative value (-1), but there must be at least one NUMA node, so returning NUMA node zero. See more at https://github.com/torvalds/linux/blob/v6.0/Documentation/ABI/testing/sysfs-bus-pci#L344-L355\n",
      "2024-04-25 10:55:52.556290: W tensorflow/core/common_runtime/gpu/gpu_device.cc:2251] Cannot dlopen some GPU libraries. Please make sure the missing libraries mentioned above are installed properly if you would like to use GPU. Follow the guide at https://www.tensorflow.org/install/gpu for how to download and setup the required libraries for your platform.\n",
      "Skipping registering GPU devices...\n"
     ]
    }
   ],
   "source": [
    "# Load Model\n",
    "model = keras.saving.load_model(model_path)"
   ]
  },
  {
   "cell_type": "code",
   "execution_count": 6,
   "metadata": {},
   "outputs": [
    {
     "data": {
      "text/html": [
       "<pre style=\"white-space:pre;overflow-x:auto;line-height:normal;font-family:Menlo,'DejaVu Sans Mono',consolas,'Courier New',monospace\"><span style=\"font-weight: bold\">Model: \"functional_1\"</span>\n",
       "</pre>\n"
      ],
      "text/plain": [
       "\u001b[1mModel: \"functional_1\"\u001b[0m\n"
      ]
     },
     "metadata": {},
     "output_type": "display_data"
    },
    {
     "data": {
      "text/html": [
       "<pre style=\"white-space:pre;overflow-x:auto;line-height:normal;font-family:Menlo,'DejaVu Sans Mono',consolas,'Courier New',monospace\">┏━━━━━━━━━━━━━━━━━━━━━━━━━━━━━━━━━┳━━━━━━━━━━━━━━━━━━━━━━━━┳━━━━━━━━━━━━━━━┓\n",
       "┃<span style=\"font-weight: bold\"> Layer (type)                    </span>┃<span style=\"font-weight: bold\"> Output Shape           </span>┃<span style=\"font-weight: bold\">       Param # </span>┃\n",
       "┡━━━━━━━━━━━━━━━━━━━━━━━━━━━━━━━━━╇━━━━━━━━━━━━━━━━━━━━━━━━╇━━━━━━━━━━━━━━━┩\n",
       "│ input_layer_1 (<span style=\"color: #0087ff; text-decoration-color: #0087ff\">InputLayer</span>)      │ (<span style=\"color: #00d7ff; text-decoration-color: #00d7ff\">None</span>, <span style=\"color: #00af00; text-decoration-color: #00af00\">224</span>, <span style=\"color: #00af00; text-decoration-color: #00af00\">224</span>, <span style=\"color: #00af00; text-decoration-color: #00af00\">3</span>)    │             <span style=\"color: #00af00; text-decoration-color: #00af00\">0</span> │\n",
       "├─────────────────────────────────┼────────────────────────┼───────────────┤\n",
       "│ efficientnetv2-b0 (<span style=\"color: #0087ff; text-decoration-color: #0087ff\">Functional</span>)  │ (<span style=\"color: #00d7ff; text-decoration-color: #00d7ff\">None</span>, <span style=\"color: #00af00; text-decoration-color: #00af00\">7</span>, <span style=\"color: #00af00; text-decoration-color: #00af00\">7</span>, <span style=\"color: #00af00; text-decoration-color: #00af00\">1280</span>)     │     <span style=\"color: #00af00; text-decoration-color: #00af00\">5,919,312</span> │\n",
       "├─────────────────────────────────┼────────────────────────┼───────────────┤\n",
       "│ global_average_pooling2d        │ (<span style=\"color: #00d7ff; text-decoration-color: #00d7ff\">None</span>, <span style=\"color: #00af00; text-decoration-color: #00af00\">1280</span>)           │             <span style=\"color: #00af00; text-decoration-color: #00af00\">0</span> │\n",
       "│ (<span style=\"color: #0087ff; text-decoration-color: #0087ff\">GlobalAveragePooling2D</span>)        │                        │               │\n",
       "├─────────────────────────────────┼────────────────────────┼───────────────┤\n",
       "│ dense (<span style=\"color: #0087ff; text-decoration-color: #0087ff\">Dense</span>)                   │ (<span style=\"color: #00d7ff; text-decoration-color: #00d7ff\">None</span>, <span style=\"color: #00af00; text-decoration-color: #00af00\">1024</span>)           │     <span style=\"color: #00af00; text-decoration-color: #00af00\">1,311,744</span> │\n",
       "├─────────────────────────────────┼────────────────────────┼───────────────┤\n",
       "│ dropout (<span style=\"color: #0087ff; text-decoration-color: #0087ff\">Dropout</span>)               │ (<span style=\"color: #00d7ff; text-decoration-color: #00d7ff\">None</span>, <span style=\"color: #00af00; text-decoration-color: #00af00\">1024</span>)           │             <span style=\"color: #00af00; text-decoration-color: #00af00\">0</span> │\n",
       "├─────────────────────────────────┼────────────────────────┼───────────────┤\n",
       "│ dense_1 (<span style=\"color: #0087ff; text-decoration-color: #0087ff\">Dense</span>)                 │ (<span style=\"color: #00d7ff; text-decoration-color: #00d7ff\">None</span>, <span style=\"color: #00af00; text-decoration-color: #00af00\">512</span>)            │       <span style=\"color: #00af00; text-decoration-color: #00af00\">524,800</span> │\n",
       "├─────────────────────────────────┼────────────────────────┼───────────────┤\n",
       "│ dropout_1 (<span style=\"color: #0087ff; text-decoration-color: #0087ff\">Dropout</span>)             │ (<span style=\"color: #00d7ff; text-decoration-color: #00d7ff\">None</span>, <span style=\"color: #00af00; text-decoration-color: #00af00\">512</span>)            │             <span style=\"color: #00af00; text-decoration-color: #00af00\">0</span> │\n",
       "├─────────────────────────────────┼────────────────────────┼───────────────┤\n",
       "│ dense_2 (<span style=\"color: #0087ff; text-decoration-color: #0087ff\">Dense</span>)                 │ (<span style=\"color: #00d7ff; text-decoration-color: #00d7ff\">None</span>, <span style=\"color: #00af00; text-decoration-color: #00af00\">256</span>)            │       <span style=\"color: #00af00; text-decoration-color: #00af00\">131,328</span> │\n",
       "├─────────────────────────────────┼────────────────────────┼───────────────┤\n",
       "│ dense_3 (<span style=\"color: #0087ff; text-decoration-color: #0087ff\">Dense</span>)                 │ (<span style=\"color: #00d7ff; text-decoration-color: #00d7ff\">None</span>, <span style=\"color: #00af00; text-decoration-color: #00af00\">10</span>)             │         <span style=\"color: #00af00; text-decoration-color: #00af00\">2,570</span> │\n",
       "└─────────────────────────────────┴────────────────────────┴───────────────┘\n",
       "</pre>\n"
      ],
      "text/plain": [
       "┏━━━━━━━━━━━━━━━━━━━━━━━━━━━━━━━━━┳━━━━━━━━━━━━━━━━━━━━━━━━┳━━━━━━━━━━━━━━━┓\n",
       "┃\u001b[1m \u001b[0m\u001b[1mLayer (type)                   \u001b[0m\u001b[1m \u001b[0m┃\u001b[1m \u001b[0m\u001b[1mOutput Shape          \u001b[0m\u001b[1m \u001b[0m┃\u001b[1m \u001b[0m\u001b[1m      Param #\u001b[0m\u001b[1m \u001b[0m┃\n",
       "┡━━━━━━━━━━━━━━━━━━━━━━━━━━━━━━━━━╇━━━━━━━━━━━━━━━━━━━━━━━━╇━━━━━━━━━━━━━━━┩\n",
       "│ input_layer_1 (\u001b[38;5;33mInputLayer\u001b[0m)      │ (\u001b[38;5;45mNone\u001b[0m, \u001b[38;5;34m224\u001b[0m, \u001b[38;5;34m224\u001b[0m, \u001b[38;5;34m3\u001b[0m)    │             \u001b[38;5;34m0\u001b[0m │\n",
       "├─────────────────────────────────┼────────────────────────┼───────────────┤\n",
       "│ efficientnetv2-b0 (\u001b[38;5;33mFunctional\u001b[0m)  │ (\u001b[38;5;45mNone\u001b[0m, \u001b[38;5;34m7\u001b[0m, \u001b[38;5;34m7\u001b[0m, \u001b[38;5;34m1280\u001b[0m)     │     \u001b[38;5;34m5,919,312\u001b[0m │\n",
       "├─────────────────────────────────┼────────────────────────┼───────────────┤\n",
       "│ global_average_pooling2d        │ (\u001b[38;5;45mNone\u001b[0m, \u001b[38;5;34m1280\u001b[0m)           │             \u001b[38;5;34m0\u001b[0m │\n",
       "│ (\u001b[38;5;33mGlobalAveragePooling2D\u001b[0m)        │                        │               │\n",
       "├─────────────────────────────────┼────────────────────────┼───────────────┤\n",
       "│ dense (\u001b[38;5;33mDense\u001b[0m)                   │ (\u001b[38;5;45mNone\u001b[0m, \u001b[38;5;34m1024\u001b[0m)           │     \u001b[38;5;34m1,311,744\u001b[0m │\n",
       "├─────────────────────────────────┼────────────────────────┼───────────────┤\n",
       "│ dropout (\u001b[38;5;33mDropout\u001b[0m)               │ (\u001b[38;5;45mNone\u001b[0m, \u001b[38;5;34m1024\u001b[0m)           │             \u001b[38;5;34m0\u001b[0m │\n",
       "├─────────────────────────────────┼────────────────────────┼───────────────┤\n",
       "│ dense_1 (\u001b[38;5;33mDense\u001b[0m)                 │ (\u001b[38;5;45mNone\u001b[0m, \u001b[38;5;34m512\u001b[0m)            │       \u001b[38;5;34m524,800\u001b[0m │\n",
       "├─────────────────────────────────┼────────────────────────┼───────────────┤\n",
       "│ dropout_1 (\u001b[38;5;33mDropout\u001b[0m)             │ (\u001b[38;5;45mNone\u001b[0m, \u001b[38;5;34m512\u001b[0m)            │             \u001b[38;5;34m0\u001b[0m │\n",
       "├─────────────────────────────────┼────────────────────────┼───────────────┤\n",
       "│ dense_2 (\u001b[38;5;33mDense\u001b[0m)                 │ (\u001b[38;5;45mNone\u001b[0m, \u001b[38;5;34m256\u001b[0m)            │       \u001b[38;5;34m131,328\u001b[0m │\n",
       "├─────────────────────────────────┼────────────────────────┼───────────────┤\n",
       "│ dense_3 (\u001b[38;5;33mDense\u001b[0m)                 │ (\u001b[38;5;45mNone\u001b[0m, \u001b[38;5;34m10\u001b[0m)             │         \u001b[38;5;34m2,570\u001b[0m │\n",
       "└─────────────────────────────────┴────────────────────────┴───────────────┘\n"
      ]
     },
     "metadata": {},
     "output_type": "display_data"
    },
    {
     "data": {
      "text/html": [
       "<pre style=\"white-space:pre;overflow-x:auto;line-height:normal;font-family:Menlo,'DejaVu Sans Mono',consolas,'Courier New',monospace\"><span style=\"font-weight: bold\"> Total params: </span><span style=\"color: #00af00; text-decoration-color: #00af00\">7,889,754</span> (30.10 MB)\n",
       "</pre>\n"
      ],
      "text/plain": [
       "\u001b[1m Total params: \u001b[0m\u001b[38;5;34m7,889,754\u001b[0m (30.10 MB)\n"
      ]
     },
     "metadata": {},
     "output_type": "display_data"
    },
    {
     "data": {
      "text/html": [
       "<pre style=\"white-space:pre;overflow-x:auto;line-height:normal;font-family:Menlo,'DejaVu Sans Mono',consolas,'Courier New',monospace\"><span style=\"font-weight: bold\"> Trainable params: </span><span style=\"color: #00af00; text-decoration-color: #00af00\">1,970,442</span> (7.52 MB)\n",
       "</pre>\n"
      ],
      "text/plain": [
       "\u001b[1m Trainable params: \u001b[0m\u001b[38;5;34m1,970,442\u001b[0m (7.52 MB)\n"
      ]
     },
     "metadata": {},
     "output_type": "display_data"
    },
    {
     "data": {
      "text/html": [
       "<pre style=\"white-space:pre;overflow-x:auto;line-height:normal;font-family:Menlo,'DejaVu Sans Mono',consolas,'Courier New',monospace\"><span style=\"font-weight: bold\"> Non-trainable params: </span><span style=\"color: #00af00; text-decoration-color: #00af00\">5,919,312</span> (22.58 MB)\n",
       "</pre>\n"
      ],
      "text/plain": [
       "\u001b[1m Non-trainable params: \u001b[0m\u001b[38;5;34m5,919,312\u001b[0m (22.58 MB)\n"
      ]
     },
     "metadata": {},
     "output_type": "display_data"
    }
   ],
   "source": [
    "model.summary()"
   ]
  },
  {
   "cell_type": "code",
   "execution_count": 7,
   "metadata": {},
   "outputs": [],
   "source": [
    "# Compile model\n",
    "model.compile(optimizer=tf.keras.optimizers.Adam(learning_rate = learning_rate),\n",
    "              loss='categorical_crossentropy',\n",
    "              metrics=['accuracy'])"
   ]
  },
  {
   "cell_type": "markdown",
   "metadata": {},
   "source": [
    "### Datasets"
   ]
  },
  {
   "cell_type": "code",
   "execution_count": 8,
   "metadata": {},
   "outputs": [],
   "source": [
    "# Load datasets\n",
    "train_datas = tf.data.Dataset.load(train_dataset_path)\n",
    "val_datas = tf.data.Dataset.load(val_dataset_path)"
   ]
  },
  {
   "cell_type": "markdown",
   "metadata": {},
   "source": [
    "## Fit"
   ]
  },
  {
   "cell_type": "code",
   "execution_count": 10,
   "metadata": {},
   "outputs": [],
   "source": [
    "# Callbacks\n",
    "model_checkpoint = tf.keras.callbacks.ModelCheckpoint(\n",
    "    os.path.join(model_checkpoint_url, \"model_{epoch:02d}_{val_loss:.2f}.weights.h5\"),\n",
    "    monitor='val_loss',\n",
    "    verbose=1,\n",
    "    save_best_only=True,\n",
    "    save_weights_only=True,\n",
    "    mode='auto',\n",
    "    save_freq='epoch',\n",
    "    initial_value_threshold=None)\n",
    "\n",
    "early_stopping = tf.keras.callbacks.EarlyStopping(\n",
    "    monitor='val_loss',\n",
    "    min_delta=0,\n",
    "    patience=3,\n",
    "    verbose=1,\n",
    "    mode='auto',\n",
    "    baseline=None,\n",
    "    restore_best_weights=True,\n",
    "    start_from_epoch=5)\n",
    "\n",
    "reduce_lr = tf.keras.callbacks.ReduceLROnPlateau(\n",
    "    monitor='val_loss',\n",
    "    factor=0.1,\n",
    "    patience=3,\n",
    "    verbose=1,\n",
    "    mode='auto',\n",
    "    min_delta=0.0001,\n",
    "    cooldown=0)"
   ]
  },
  {
   "cell_type": "code",
   "execution_count": 11,
   "metadata": {},
   "outputs": [
    {
     "name": "stdout",
     "output_type": "stream",
     "text": [
      "Epoch 1/25\n",
      "\u001b[1m3145/3145\u001b[0m \u001b[32m━━━━━━━━━━━━━━━━━━━━\u001b[0m\u001b[37m\u001b[0m \u001b[1m0s\u001b[0m 112ms/step - accuracy: 0.6219 - loss: 1.1073 - top_k_categorical_accuracy: 0.8643\n",
      "Epoch 1: val_loss improved from inf to 0.72751, saving model to ../../storage/models/model_checkpoint/model_01_0.73.weights.h5\n",
      "\u001b[1m3145/3145\u001b[0m \u001b[32m━━━━━━━━━━━━━━━━━━━━\u001b[0m\u001b[37m\u001b[0m \u001b[1m402s\u001b[0m 126ms/step - accuracy: 0.6219 - loss: 1.1073 - top_k_categorical_accuracy: 0.8643 - val_accuracy: 0.7671 - val_loss: 0.7275 - val_top_k_categorical_accuracy: 0.9380 - learning_rate: 1.0000e-04\n",
      "Epoch 2/25\n",
      "\u001b[1m3145/3145\u001b[0m \u001b[32m━━━━━━━━━━━━━━━━━━━━\u001b[0m\u001b[37m\u001b[0m \u001b[1m0s\u001b[0m 122ms/step - accuracy: 0.7743 - loss: 0.6604 - top_k_categorical_accuracy: 0.9494\n",
      "Epoch 2: val_loss did not improve from 0.72751\n",
      "\u001b[1m3145/3145\u001b[0m \u001b[32m━━━━━━━━━━━━━━━━━━━━\u001b[0m\u001b[37m\u001b[0m \u001b[1m424s\u001b[0m 135ms/step - accuracy: 0.7743 - loss: 0.6604 - top_k_categorical_accuracy: 0.9494 - val_accuracy: 0.7544 - val_loss: 0.7348 - val_top_k_categorical_accuracy: 0.9364 - learning_rate: 1.0000e-04\n",
      "Epoch 3/25\n",
      "\u001b[1m3145/3145\u001b[0m \u001b[32m━━━━━━━━━━━━━━━━━━━━\u001b[0m\u001b[37m\u001b[0m \u001b[1m0s\u001b[0m 110ms/step - accuracy: 0.8027 - loss: 0.5755 - top_k_categorical_accuracy: 0.9614\n",
      "Epoch 3: val_loss did not improve from 0.72751\n",
      "\u001b[1m3145/3145\u001b[0m \u001b[32m━━━━━━━━━━━━━━━━━━━━\u001b[0m\u001b[37m\u001b[0m \u001b[1m386s\u001b[0m 123ms/step - accuracy: 0.8027 - loss: 0.5755 - top_k_categorical_accuracy: 0.9614 - val_accuracy: 0.7639 - val_loss: 0.7527 - val_top_k_categorical_accuracy: 0.9404 - learning_rate: 1.0000e-04\n",
      "Epoch 4/25\n",
      "\u001b[1m3145/3145\u001b[0m \u001b[32m━━━━━━━━━━━━━━━━━━━━\u001b[0m\u001b[37m\u001b[0m \u001b[1m0s\u001b[0m 112ms/step - accuracy: 0.8196 - loss: 0.5327 - top_k_categorical_accuracy: 0.9661\n",
      "Epoch 4: val_loss did not improve from 0.72751\n",
      "\n",
      "Epoch 4: ReduceLROnPlateau reducing learning rate to 9.999999747378752e-06.\n",
      "\u001b[1m3145/3145\u001b[0m \u001b[32m━━━━━━━━━━━━━━━━━━━━\u001b[0m\u001b[37m\u001b[0m \u001b[1m391s\u001b[0m 124ms/step - accuracy: 0.8196 - loss: 0.5327 - top_k_categorical_accuracy: 0.9661 - val_accuracy: 0.7623 - val_loss: 0.7584 - val_top_k_categorical_accuracy: 0.9396 - learning_rate: 1.0000e-04\n",
      "Epoch 5/25\n",
      "\u001b[1m3145/3145\u001b[0m \u001b[32m━━━━━━━━━━━━━━━━━━━━\u001b[0m\u001b[37m\u001b[0m \u001b[1m0s\u001b[0m 115ms/step - accuracy: 0.8574 - loss: 0.4134 - top_k_categorical_accuracy: 0.9788\n",
      "Epoch 5: val_loss improved from 0.72751 to 0.71969, saving model to ../../storage/models/model_checkpoint/model_05_0.72.weights.h5\n",
      "\u001b[1m3145/3145\u001b[0m \u001b[32m━━━━━━━━━━━━━━━━━━━━\u001b[0m\u001b[37m\u001b[0m \u001b[1m399s\u001b[0m 127ms/step - accuracy: 0.8574 - loss: 0.4134 - top_k_categorical_accuracy: 0.9788 - val_accuracy: 0.7727 - val_loss: 0.7197 - val_top_k_categorical_accuracy: 0.9452 - learning_rate: 1.0000e-05\n",
      "Epoch 6/25\n",
      "\u001b[1m3145/3145\u001b[0m \u001b[32m━━━━━━━━━━━━━━━━━━━━\u001b[0m\u001b[37m\u001b[0m \u001b[1m0s\u001b[0m 108ms/step - accuracy: 0.8638 - loss: 0.3912 - top_k_categorical_accuracy: 0.9802\n",
      "Epoch 6: val_loss did not improve from 0.71969\n",
      "\u001b[1m3145/3145\u001b[0m \u001b[32m━━━━━━━━━━━━━━━━━━━━\u001b[0m\u001b[37m\u001b[0m \u001b[1m378s\u001b[0m 120ms/step - accuracy: 0.8638 - loss: 0.3912 - top_k_categorical_accuracy: 0.9802 - val_accuracy: 0.7750 - val_loss: 0.7330 - val_top_k_categorical_accuracy: 0.9436 - learning_rate: 1.0000e-05\n",
      "Epoch 7/25\n",
      "\u001b[1m3145/3145\u001b[0m \u001b[32m━━━━━━━━━━━━━━━━━━━━\u001b[0m\u001b[37m\u001b[0m \u001b[1m0s\u001b[0m 109ms/step - accuracy: 0.8704 - loss: 0.3789 - top_k_categorical_accuracy: 0.9819\n",
      "Epoch 7: val_loss did not improve from 0.71969\n",
      "\u001b[1m3145/3145\u001b[0m \u001b[32m━━━━━━━━━━━━━━━━━━━━\u001b[0m\u001b[37m\u001b[0m \u001b[1m379s\u001b[0m 121ms/step - accuracy: 0.8704 - loss: 0.3789 - top_k_categorical_accuracy: 0.9819 - val_accuracy: 0.7742 - val_loss: 0.7430 - val_top_k_categorical_accuracy: 0.9444 - learning_rate: 1.0000e-05\n",
      "Epoch 8/25\n",
      "\u001b[1m3145/3145\u001b[0m \u001b[32m━━━━━━━━━━━━━━━━━━━━\u001b[0m\u001b[37m\u001b[0m \u001b[1m0s\u001b[0m 105ms/step - accuracy: 0.8706 - loss: 0.3740 - top_k_categorical_accuracy: 0.9817\n",
      "Epoch 8: val_loss did not improve from 0.71969\n",
      "\n",
      "Epoch 8: ReduceLROnPlateau reducing learning rate to 9.999999747378752e-07.\n",
      "\u001b[1m3145/3145\u001b[0m \u001b[32m━━━━━━━━━━━━━━━━━━━━\u001b[0m\u001b[37m\u001b[0m \u001b[1m367s\u001b[0m 117ms/step - accuracy: 0.8706 - loss: 0.3740 - top_k_categorical_accuracy: 0.9817 - val_accuracy: 0.7687 - val_loss: 0.7493 - val_top_k_categorical_accuracy: 0.9475 - learning_rate: 1.0000e-05\n",
      "Epoch 9/25\n",
      "\u001b[1m3145/3145\u001b[0m \u001b[32m━━━━━━━━━━━━━━━━━━━━\u001b[0m\u001b[37m\u001b[0m \u001b[1m0s\u001b[0m 116ms/step - accuracy: 0.8735 - loss: 0.3623 - top_k_categorical_accuracy: 0.9832\n",
      "Epoch 9: val_loss did not improve from 0.71969\n",
      "\u001b[1m3145/3145\u001b[0m \u001b[32m━━━━━━━━━━━━━━━━━━━━\u001b[0m\u001b[37m\u001b[0m \u001b[1m403s\u001b[0m 128ms/step - accuracy: 0.8735 - loss: 0.3623 - top_k_categorical_accuracy: 0.9832 - val_accuracy: 0.7703 - val_loss: 0.7491 - val_top_k_categorical_accuracy: 0.9444 - learning_rate: 1.0000e-06\n",
      "Epoch 9: early stopping\n",
      "Restoring model weights from the end of the best epoch: 6.\n"
     ]
    },
    {
     "name": "stderr",
     "output_type": "stream",
     "text": [
      "2024/04/25 11:54:59 WARNING mlflow.utils.autologging_utils: Encountered unexpected error during tensorflow autologging: Could not find experiment with ID 0\n"
     ]
    }
   ],
   "source": [
    "# Start mlflow client\n",
    "mlflow.set_tracking_uri(tracking_uri)\n",
    "client = MlflowClient()\n",
    "mlflow.tensorflow.autolog()\n",
    "\n",
    "history = model.fit(\n",
    "    train_datas,\n",
    "    validation_data = val_datas,\n",
    "    epochs = epochs,\n",
    "    initial_epoch = 0,\n",
    "    callbacks=[model_checkpoint, early_stopping, reduce_lr],\n",
    "    verbose = 1)"
   ]
  },
  {
   "cell_type": "code",
   "execution_count": 12,
   "metadata": {},
   "outputs": [],
   "source": [
    "# Save Model\n",
    "trained_model_path = \"../../storage/models/trained/generated_model_efficientnetv2_21k_finetuned_1k_v1_trained.keras\"\n",
    "model.save(filepath = trained_model_path, overwrite = True)\n",
    "\n",
    "# Save history\n",
    "history_path = \"../../storage/models/histories/generated_model_efficientnetv2_21k_finetuned_1k_v1_trained_history.pickle\"\n",
    "with open(history_path, 'wb') as file:\n",
    "    pickle.dump(history.history, file)"
   ]
  },
  {
   "cell_type": "markdown",
   "metadata": {},
   "source": [
    "### Fine tuning"
   ]
  },
  {
   "cell_type": "code",
   "execution_count": 13,
   "metadata": {},
   "outputs": [],
   "source": [
    "fine_tuned_model = model\n",
    "\n",
    "for layer in fine_tuned_model.layers:\n",
    "    layer.trainable = False\n",
    "    \n",
    "fine_tuned_model.layers[1].trainable = True\n",
    "\n",
    "fine_tuned_model.compile(optimizer=tf.keras.optimizers.Adam(learning_rate = 1e-6),\n",
    "              loss='categorical_crossentropy',\n",
    "              metrics=['accuracy', tf.keras.metrics.TopKCategoricalAccuracy(k=3)])"
   ]
  },
  {
   "cell_type": "code",
   "execution_count": 14,
   "metadata": {},
   "outputs": [
    {
     "name": "stdout",
     "output_type": "stream",
     "text": [
      "Epoch 1/10\n",
      "\u001b[1m3145/3145\u001b[0m \u001b[32m━━━━━━━━━━━━━━━━━━━━\u001b[0m\u001b[37m\u001b[0m \u001b[1m0s\u001b[0m 568ms/step - accuracy: 0.5254 - loss: 1.6994 - top_k_categorical_accuracy: 0.8022\n",
      "Epoch 1: val_loss did not improve from 0.71969\n",
      "\u001b[1m3145/3145\u001b[0m \u001b[32m━━━━━━━━━━━━━━━━━━━━\u001b[0m\u001b[37m\u001b[0m \u001b[1m1849s\u001b[0m 581ms/step - accuracy: 0.5254 - loss: 1.6993 - top_k_categorical_accuracy: 0.8022 - val_accuracy: 0.6296 - val_loss: 1.2190 - val_top_k_categorical_accuracy: 0.8688 - learning_rate: 1.0000e-06\n",
      "Epoch 2/10\n",
      "\u001b[1m3145/3145\u001b[0m \u001b[32m━━━━━━━━━━━━━━━━━━━━\u001b[0m\u001b[37m\u001b[0m \u001b[1m0s\u001b[0m 584ms/step - accuracy: 0.6232 - loss: 1.2565 - top_k_categorical_accuracy: 0.8696\n",
      "Epoch 2: val_loss did not improve from 0.71969\n",
      "\u001b[1m3145/3145\u001b[0m \u001b[32m━━━━━━━━━━━━━━━━━━━━\u001b[0m\u001b[37m\u001b[0m \u001b[1m1877s\u001b[0m 597ms/step - accuracy: 0.6232 - loss: 1.2564 - top_k_categorical_accuracy: 0.8696 - val_accuracy: 0.6709 - val_loss: 1.0442 - val_top_k_categorical_accuracy: 0.8983 - learning_rate: 1.0000e-06\n",
      "Epoch 3/10\n",
      "\u001b[1m3145/3145\u001b[0m \u001b[32m━━━━━━━━━━━━━━━━━━━━\u001b[0m\u001b[37m\u001b[0m \u001b[1m0s\u001b[0m 589ms/step - accuracy: 0.6775 - loss: 1.0373 - top_k_categorical_accuracy: 0.9017\n",
      "Epoch 3: val_loss did not improve from 0.71969\n",
      "\u001b[1m3145/3145\u001b[0m \u001b[32m━━━━━━━━━━━━━━━━━━━━\u001b[0m\u001b[37m\u001b[0m \u001b[1m1890s\u001b[0m 601ms/step - accuracy: 0.6775 - loss: 1.0372 - top_k_categorical_accuracy: 0.9017 - val_accuracy: 0.6995 - val_loss: 0.9420 - val_top_k_categorical_accuracy: 0.9141 - learning_rate: 1.0000e-06\n",
      "Epoch 4/10\n",
      "\u001b[1m3145/3145\u001b[0m \u001b[32m━━━━━━━━━━━━━━━━━━━━\u001b[0m\u001b[37m\u001b[0m \u001b[1m0s\u001b[0m 565ms/step - accuracy: 0.7135 - loss: 0.8969 - top_k_categorical_accuracy: 0.9221\n",
      "Epoch 4: val_loss did not improve from 0.71969\n",
      "\u001b[1m3145/3145\u001b[0m \u001b[32m━━━━━━━━━━━━━━━━━━━━\u001b[0m\u001b[37m\u001b[0m \u001b[1m1815s\u001b[0m 577ms/step - accuracy: 0.7135 - loss: 0.8969 - top_k_categorical_accuracy: 0.9221 - val_accuracy: 0.7226 - val_loss: 0.8630 - val_top_k_categorical_accuracy: 0.9221 - learning_rate: 1.0000e-06\n",
      "Epoch 5/10\n",
      "\u001b[1m3145/3145\u001b[0m \u001b[32m━━━━━━━━━━━━━━━━━━━━\u001b[0m\u001b[37m\u001b[0m \u001b[1m0s\u001b[0m 517ms/step - accuracy: 0.7434 - loss: 0.7961 - top_k_categorical_accuracy: 0.9339\n",
      "Epoch 5: val_loss did not improve from 0.71969\n",
      "\u001b[1m3145/3145\u001b[0m \u001b[32m━━━━━━━━━━━━━━━━━━━━\u001b[0m\u001b[37m\u001b[0m \u001b[1m1660s\u001b[0m 528ms/step - accuracy: 0.7434 - loss: 0.7961 - top_k_categorical_accuracy: 0.9339 - val_accuracy: 0.7393 - val_loss: 0.8019 - val_top_k_categorical_accuracy: 0.9324 - learning_rate: 1.0000e-06\n",
      "Epoch 6/10\n",
      "\u001b[1m3145/3145\u001b[0m \u001b[32m━━━━━━━━━━━━━━━━━━━━\u001b[0m\u001b[37m\u001b[0m \u001b[1m0s\u001b[0m 475ms/step - accuracy: 0.7626 - loss: 0.7181 - top_k_categorical_accuracy: 0.9442\n",
      "Epoch 6: val_loss did not improve from 0.71969\n",
      "\u001b[1m3145/3145\u001b[0m \u001b[32m━━━━━━━━━━━━━━━━━━━━\u001b[0m\u001b[37m\u001b[0m \u001b[1m1529s\u001b[0m 486ms/step - accuracy: 0.7626 - loss: 0.7181 - top_k_categorical_accuracy: 0.9442 - val_accuracy: 0.7560 - val_loss: 0.7600 - val_top_k_categorical_accuracy: 0.9332 - learning_rate: 1.0000e-06\n",
      "Epoch 7/10\n",
      "\u001b[1m3145/3145\u001b[0m \u001b[32m━━━━━━━━━━━━━━━━━━━━\u001b[0m\u001b[37m\u001b[0m \u001b[1m0s\u001b[0m 476ms/step - accuracy: 0.7840 - loss: 0.6535 - top_k_categorical_accuracy: 0.9519\n",
      "Epoch 7: val_loss did not improve from 0.71969\n",
      "\u001b[1m3145/3145\u001b[0m \u001b[32m━━━━━━━━━━━━━━━━━━━━\u001b[0m\u001b[37m\u001b[0m \u001b[1m1531s\u001b[0m 487ms/step - accuracy: 0.7840 - loss: 0.6535 - top_k_categorical_accuracy: 0.9519 - val_accuracy: 0.7639 - val_loss: 0.7244 - val_top_k_categorical_accuracy: 0.9380 - learning_rate: 1.0000e-06\n",
      "Epoch 8/10\n",
      "\u001b[1m3145/3145\u001b[0m \u001b[32m━━━━━━━━━━━━━━━━━━━━\u001b[0m\u001b[37m\u001b[0m \u001b[1m0s\u001b[0m 475ms/step - accuracy: 0.8048 - loss: 0.5874 - top_k_categorical_accuracy: 0.9589\n",
      "Epoch 8: val_loss improved from 0.71969 to 0.69082, saving model to ../../storage/models/model_checkpoint/model_08_0.69.weights.h5\n",
      "\u001b[1m3145/3145\u001b[0m \u001b[32m━━━━━━━━━━━━━━━━━━━━\u001b[0m\u001b[37m\u001b[0m \u001b[1m1529s\u001b[0m 486ms/step - accuracy: 0.8048 - loss: 0.5874 - top_k_categorical_accuracy: 0.9589 - val_accuracy: 0.7742 - val_loss: 0.6908 - val_top_k_categorical_accuracy: 0.9420 - learning_rate: 1.0000e-06\n",
      "Epoch 9/10\n",
      "\u001b[1m3145/3145\u001b[0m \u001b[32m━━━━━━━━━━━━━━━━━━━━\u001b[0m\u001b[37m\u001b[0m \u001b[1m0s\u001b[0m 476ms/step - accuracy: 0.8170 - loss: 0.5390 - top_k_categorical_accuracy: 0.9647\n",
      "Epoch 9: val_loss improved from 0.69082 to 0.66463, saving model to ../../storage/models/model_checkpoint/model_09_0.66.weights.h5\n",
      "\u001b[1m3145/3145\u001b[0m \u001b[32m━━━━━━━━━━━━━━━━━━━━\u001b[0m\u001b[37m\u001b[0m \u001b[1m1539s\u001b[0m 489ms/step - accuracy: 0.8170 - loss: 0.5390 - top_k_categorical_accuracy: 0.9647 - val_accuracy: 0.7862 - val_loss: 0.6646 - val_top_k_categorical_accuracy: 0.9444 - learning_rate: 1.0000e-06\n",
      "Epoch 10/10\n",
      "\u001b[1m3145/3145\u001b[0m \u001b[32m━━━━━━━━━━━━━━━━━━━━\u001b[0m\u001b[37m\u001b[0m \u001b[1m0s\u001b[0m 583ms/step - accuracy: 0.8327 - loss: 0.5035 - top_k_categorical_accuracy: 0.9664\n",
      "Epoch 10: val_loss improved from 0.66463 to 0.64200, saving model to ../../storage/models/model_checkpoint/model_10_0.64.weights.h5\n",
      "\u001b[1m3145/3145\u001b[0m \u001b[32m━━━━━━━━━━━━━━━━━━━━\u001b[0m\u001b[37m\u001b[0m \u001b[1m1869s\u001b[0m 594ms/step - accuracy: 0.8327 - loss: 0.5035 - top_k_categorical_accuracy: 0.9664 - val_accuracy: 0.7886 - val_loss: 0.6420 - val_top_k_categorical_accuracy: 0.9499 - learning_rate: 1.0000e-06\n",
      "Restoring model weights from the end of the best epoch: 10.\n"
     ]
    },
    {
     "name": "stderr",
     "output_type": "stream",
     "text": [
      "2024/04/25 16:41:32 WARNING mlflow.utils.autologging_utils: Encountered unexpected error during tensorflow autologging: Could not find experiment with ID 0\n"
     ]
    }
   ],
   "source": [
    "history_fine_tune = model.fit(\n",
    "    train_datas,\n",
    "    validation_data = val_datas,\n",
    "    epochs = epochs-15,\n",
    "    initial_epoch = 0,\n",
    "    callbacks=[model_checkpoint, early_stopping, reduce_lr],\n",
    "    verbose = 1)"
   ]
  },
  {
   "cell_type": "code",
   "execution_count": 15,
   "metadata": {},
   "outputs": [],
   "source": [
    "# Save model\n",
    "fine_tuned_model_path = \"../../storage/models/trained/generated_model_efficientnetv2_21k_finetuned_1k_v1_trained_fine_tuned.keras\"\n",
    "fine_tuned_model.save(filepath = fine_tuned_model_path, overwrite = True)\n",
    "\n",
    "history_fine_tune_path = \"../../storage/models/histories/generated_model_efficientnetv2_21k_finetuned_1k_v1_trained_fine_tuned_history.pickle\"\n",
    "with open(history_fine_tune_path, 'wb') as file:\n",
    "    pickle.dump(history_fine_tune.history, file)"
   ]
  },
  {
   "cell_type": "code",
   "execution_count": null,
   "metadata": {},
   "outputs": [],
   "source": []
  }
 ],
 "metadata": {
  "kernelspec": {
   "display_name": ".venv",
   "language": "python",
   "name": "python3"
  },
  "language_info": {
   "codemirror_mode": {
    "name": "ipython",
    "version": 3
   },
   "file_extension": ".py",
   "mimetype": "text/x-python",
   "name": "python",
   "nbconvert_exporter": "python",
   "pygments_lexer": "ipython3",
   "version": "3.10.12"
  }
 },
 "nbformat": 4,
 "nbformat_minor": 2
}
