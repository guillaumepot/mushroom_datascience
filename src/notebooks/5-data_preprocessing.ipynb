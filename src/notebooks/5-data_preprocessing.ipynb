{
 "cells": [
  {
   "cell_type": "markdown",
   "metadata": {},
   "source": [
    "## Lib"
   ]
  },
  {
   "cell_type": "code",
   "execution_count": 1,
   "metadata": {},
   "outputs": [],
   "source": [
    "import sys\n",
    "import os\n",
    "sys.path.insert(0, os.path.abspath(os.path.join(os.getcwd(), '..')))"
   ]
  },
  {
   "cell_type": "code",
   "execution_count": 36,
   "metadata": {},
   "outputs": [],
   "source": [
    "import pandas as pd\n",
    "\n",
    "from utils.import_df import import_df\n",
    "from utils.check_existing_file import check_file\n",
    "from utils.img_preprocessing import get_features_target, img_preprocessing, generate_dataset"
   ]
  },
  {
   "cell_type": "markdown",
   "metadata": {},
   "source": [
    "## Vars"
   ]
  },
  {
   "cell_type": "code",
   "execution_count": 22,
   "metadata": {},
   "outputs": [],
   "source": [
    "csv_url = \"../../storage/datas/csv/clean/cleaned_dataset_with_features_top_10_species.csv\"\n",
    "img_directory = \"/home/guillaume/Téléchargements/mushroom-dataset/clean_dataset/\""
   ]
  },
  {
   "cell_type": "markdown",
   "metadata": {},
   "source": [
    "## 1 - import DF"
   ]
  },
  {
   "cell_type": "markdown",
   "metadata": {},
   "source": [
    "### Full Dataset"
   ]
  },
  {
   "cell_type": "code",
   "execution_count": 23,
   "metadata": {},
   "outputs": [
    {
     "name": "stdout",
     "output_type": "stream",
     "text": [
      "DF loaded with shape: (15200, 15)\n",
      "Unique species in DF: 11\n"
     ]
    }
   ],
   "source": [
    "# Full Dataset\n",
    "df = import_df(csv_url)"
   ]
  },
  {
   "cell_type": "code",
   "execution_count": 24,
   "metadata": {},
   "outputs": [
    {
     "data": {
      "text/plain": [
       "species\n",
       "Pleurotus ostreatus      1623\n",
       "Trametes versicolor      1608\n",
       "Pluteus cervinus         1470\n",
       "other                    1400\n",
       "Lepista nuda             1356\n",
       "Psilocybe zapotecorum    1350\n",
       "Psilocybe cyanescens     1310\n",
       "Boletus edulis           1303\n",
       "Hypholoma fasciculare    1293\n",
       "Ganoderma applanatum     1281\n",
       "Galerina marginata       1206\n",
       "Name: count, dtype: int64"
      ]
     },
     "execution_count": 24,
     "metadata": {},
     "output_type": "execute_result"
    }
   ],
   "source": [
    "df[\"species\"].value_counts()"
   ]
  },
  {
   "cell_type": "markdown",
   "metadata": {},
   "source": [
    "### Sample"
   ]
  },
  {
   "cell_type": "code",
   "execution_count": 25,
   "metadata": {},
   "outputs": [
    {
     "name": "stdout",
     "output_type": "stream",
     "text": [
      "DF sampled with 10.0% from original dataset, shape: (1520, 15)\n",
      "Unique species in sampled DF: 11\n"
     ]
    }
   ],
   "source": [
    "# 10% Sample\n",
    "df_sample_10 = import_df(csv_url,\n",
    "                         sample = True,\n",
    "                         sample_size = 0.1,\n",
    "                         random_state=1)"
   ]
  },
  {
   "cell_type": "code",
   "execution_count": 26,
   "metadata": {},
   "outputs": [
    {
     "data": {
      "text/plain": [
       "species\n",
       "Pleurotus ostreatus      169\n",
       "Trametes versicolor      156\n",
       "other                    145\n",
       "Lepista nuda             142\n",
       "Boletus edulis           136\n",
       "Hypholoma fasciculare    135\n",
       "Ganoderma applanatum     135\n",
       "Pluteus cervinus         133\n",
       "Psilocybe cyanescens     124\n",
       "Psilocybe zapotecorum    123\n",
       "Galerina marginata       122\n",
       "Name: count, dtype: int64"
      ]
     },
     "execution_count": 26,
     "metadata": {},
     "output_type": "execute_result"
    }
   ],
   "source": [
    "df_sample_10[\"species\"].value_counts()"
   ]
  },
  {
   "cell_type": "markdown",
   "metadata": {},
   "source": [
    "## 2 - Check if all image files exist"
   ]
  },
  {
   "cell_type": "code",
   "execution_count": 27,
   "metadata": {},
   "outputs": [
    {
     "name": "stdout",
     "output_type": "stream",
     "text": [
      "All files found!\n"
     ]
    }
   ],
   "source": [
    "check_file(img_directory = img_directory,\n",
    "           df = df)"
   ]
  },
  {
   "cell_type": "code",
   "execution_count": 29,
   "metadata": {},
   "outputs": [
    {
     "name": "stdout",
     "output_type": "stream",
     "text": [
      "All files found!\n"
     ]
    }
   ],
   "source": [
    "check_file(img_directory = img_directory,\n",
    "           df = df_sample_10)"
   ]
  },
  {
   "cell_type": "markdown",
   "metadata": {},
   "source": [
    "## 3 - Df column selection"
   ]
  },
  {
   "cell_type": "code",
   "execution_count": 30,
   "metadata": {},
   "outputs": [],
   "source": [
    "target_column = \"species\"\n",
    "img_link_column = \"image_lien\""
   ]
  },
  {
   "cell_type": "code",
   "execution_count": 31,
   "metadata": {},
   "outputs": [],
   "source": [
    "df = df[[target_column, img_link_column]]\n",
    "df_sample_10 = df_sample_10[[target_column, img_link_column]]"
   ]
  },
  {
   "cell_type": "code",
   "execution_count": 33,
   "metadata": {},
   "outputs": [],
   "source": [
    "df[\"image_lien\"] = df[\"image_lien\"].apply(lambda x: os.path.join(img_directory, x))\n",
    "df_sample_10[\"image_lien\"] = df_sample_10[\"image_lien\"].apply(lambda x: os.path.join(img_directory, x))"
   ]
  },
  {
   "cell_type": "markdown",
   "metadata": {},
   "source": [
    "## 4 - img Preprocessing"
   ]
  },
  {
   "cell_type": "markdown",
   "metadata": {},
   "source": [
    "### Features & Targets"
   ]
  },
  {
   "cell_type": "code",
   "execution_count": 37,
   "metadata": {},
   "outputs": [],
   "source": [
    "# Get features & target\n",
    "df_features, df_target = get_features_target(df, target_column_name = \"species\")\n",
    "df_sample_10_features, df_sample_10_target = get_features_target(df_sample_10, target_column_name = \"species\")"
   ]
  },
  {
   "cell_type": "markdown",
   "metadata": {},
   "source": [
    "### Img Load & Preprocessing"
   ]
  },
  {
   "cell_type": "code",
   "execution_count": null,
   "metadata": {},
   "outputs": [],
   "source": [
    "image_preprocessing() # Terminer fonction et tester"
   ]
  },
  {
   "cell_type": "markdown",
   "metadata": {},
   "source": [
    "### Tensorflow dataset generation"
   ]
  },
  {
   "cell_type": "code",
   "execution_count": null,
   "metadata": {},
   "outputs": [],
   "source": [
    "# Construction des datasets\n",
    "from fonctions_dataset import gen_dataset, load_image\n",
    "dataset_train = gen_dataset(set = 'train', training_data = training_data, img_dim = img_dim, augment = True, normalize = False, batch_size = batch_size)\n",
    "dataset_val = gen_dataset(set = 'validation', training_data = training_data, img_dim = img_dim, augment = False, normalize = False, batch_size = batch_size)\n",
    "dataset_test = gen_dataset(set = 'test', training_data = training_data, img_dim = img_dim, augment = False, normalize = False, batch_size = batch_size)"
   ]
  },
  {
   "cell_type": "code",
   "execution_count": null,
   "metadata": {},
   "outputs": [],
   "source": [
    "generate_dataset() # Terminer fonction et tester"
   ]
  },
  {
   "cell_type": "code",
   "execution_count": null,
   "metadata": {},
   "outputs": [],
   "source": []
  }
 ],
 "metadata": {
  "kernelspec": {
   "display_name": ".venv",
   "language": "python",
   "name": "python3"
  },
  "language_info": {
   "codemirror_mode": {
    "name": "ipython",
    "version": 3
   },
   "file_extension": ".py",
   "mimetype": "text/x-python",
   "name": "python",
   "nbconvert_exporter": "python",
   "pygments_lexer": "ipython3",
   "version": "3.10.12"
  }
 },
 "nbformat": 4,
 "nbformat_minor": 2
}
