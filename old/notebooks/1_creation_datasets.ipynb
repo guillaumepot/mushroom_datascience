{
 "cells": [
  {
   "cell_type": "markdown",
   "id": "3262ea4e",
   "metadata": {},
   "source": [
    "# infos"
   ]
  },
  {
   "cell_type": "code",
   "execution_count": null,
   "id": "5ceb9244",
   "metadata": {},
   "outputs": [],
   "source": [
    "# Version 1 finale\n",
    "# Notebook de construction des .csv"
   ]
  },
  {
   "cell_type": "markdown",
   "id": "ff05fc42",
   "metadata": {},
   "source": [
    "### Changelogs :\n",
    "\n",
    "v1 :\n",
    "- Construction notebook"
   ]
  },
  {
   "cell_type": "markdown",
   "id": "707c349a",
   "metadata": {},
   "source": [
    "# Preambule"
   ]
  },
  {
   "cell_type": "markdown",
   "id": "ffaa7993",
   "metadata": {},
   "source": [
    "<span style=\"color: #FF0000\">S'assurer que l'intégralité des images soient disponibles dans un dossier.</span>\n",
    "\n",
    "\n",
    "- Split de mushroom_observation : <span style=\"color: #26B260\">(La colonne 'image_lien' sert de clé commune pour les dataframes construits)</span>\n",
    "    - _mushroom_observation_cleaned_ Fichier de données original après traitements\n",
    "    - _mushroom_observation_cleaned_sorted_ranks_ Fichier de données traité et suppression des ranks non utilisés après analyse\n",
    "    - _mushroom_observation_key_ Contient uniquement les variables 'Key' pour analyses\n",
    "    - _model_datas_10_ Pour l'entrainement du modèle sans le tri des images\n",
    "    - _model_datas_10_filtered_ Pour l'entrainement du modèle avec tri des images\n",
    "\n",
    "    <span style=\"color: #26B260\">_Particularité :_</span> Le fichier 'img_supp.csv' contient la liste des images supprimées du jeu de données original. Ces images comportaient des photos hors sujet (ciel, nature, analyses microscopiques) qui n'entrent pas dans le cadre du projet."
   ]
  },
  {
   "cell_type": "markdown",
   "id": "0873f58f",
   "metadata": {},
   "source": [
    "# Librairies"
   ]
  },
  {
   "cell_type": "code",
   "execution_count": 5,
   "id": "49ad0977",
   "metadata": {},
   "outputs": [],
   "source": [
    "import pandas as pd\n",
    "import os\n",
    "\n",
    "# Afficher toutes les colonnes des DF dans les cellules\n",
    "pd.set_option('display.max_columns', None)"
   ]
  },
  {
   "cell_type": "markdown",
   "id": "fd1b50e3",
   "metadata": {},
   "source": [
    "# Traitement de observation_mushroom.csv"
   ]
  },
  {
   "cell_type": "markdown",
   "id": "e5b7c7fa",
   "metadata": {},
   "source": [
    "<span style=\"color: #FF0000\">Fichier CSV d'origine fourni avec les images</span>"
   ]
  },
  {
   "cell_type": "code",
   "execution_count": 52,
   "id": "3ae7d0b3",
   "metadata": {},
   "outputs": [],
   "source": [
    "# URL du fichier\n",
    "lien_csv = '../data/observations_mushroom.csv'\n",
    "\n",
    "# Construction d'un DataFrame en important le fichier\n",
    "mushroom_observation = pd.read_csv(lien_csv, low_memory=False)"
   ]
  },
  {
   "cell_type": "code",
   "execution_count": 53,
   "id": "06534052",
   "metadata": {},
   "outputs": [
    {
     "name": "stdout",
     "output_type": "stream",
     "text": [
      "Nombre d'obervations initiales : 647623\n"
     ]
    },
    {
     "data": {
      "text/html": [
       "<div>\n",
       "<style scoped>\n",
       "    .dataframe tbody tr th:only-of-type {\n",
       "        vertical-align: middle;\n",
       "    }\n",
       "\n",
       "    .dataframe tbody tr th {\n",
       "        vertical-align: top;\n",
       "    }\n",
       "\n",
       "    .dataframe thead th {\n",
       "        text-align: right;\n",
       "    }\n",
       "</style>\n",
       "<table border=\"1\" class=\"dataframe\">\n",
       "  <thead>\n",
       "    <tr style=\"text-align: right;\">\n",
       "      <th></th>\n",
       "      <th>image_lien</th>\n",
       "      <th>image_id</th>\n",
       "      <th>observation</th>\n",
       "      <th>label</th>\n",
       "      <th>image_url</th>\n",
       "      <th>user</th>\n",
       "      <th>date</th>\n",
       "      <th>gbif_info/kingdom</th>\n",
       "      <th>gbif_info/family</th>\n",
       "      <th>gbif_info/speciesKey</th>\n",
       "      <th>gbif_info/rank</th>\n",
       "      <th>gbif_info/phylum</th>\n",
       "      <th>gbif_info/orderKey</th>\n",
       "      <th>gbif_info/species</th>\n",
       "      <th>gbif_info/confidence</th>\n",
       "      <th>gbif_info/classKey</th>\n",
       "      <th>gbif_info/matchType</th>\n",
       "      <th>gbif_info/familyKey</th>\n",
       "      <th>gbif_info/status</th>\n",
       "      <th>gbif_info/usageKey</th>\n",
       "      <th>gbif_info/kingdomKey</th>\n",
       "      <th>gbif_info/genusKey</th>\n",
       "      <th>gbif_info/canonicalName</th>\n",
       "      <th>gbif_info/phylumKey</th>\n",
       "      <th>gbif_info/class</th>\n",
       "      <th>gbif_info/synonym</th>\n",
       "      <th>gbif_info/scientificName</th>\n",
       "      <th>gbif_info/genus</th>\n",
       "      <th>gbif_info/order</th>\n",
       "      <th>thumbnail</th>\n",
       "      <th>location</th>\n",
       "      <th>gbif_info/note</th>\n",
       "      <th>gbif_info</th>\n",
       "    </tr>\n",
       "  </thead>\n",
       "  <tbody>\n",
       "    <tr>\n",
       "      <th>0</th>\n",
       "      <td>1.jpg</td>\n",
       "      <td>1</td>\n",
       "      <td>1</td>\n",
       "      <td>Xylaria polymorpha</td>\n",
       "      <td>http://mushroomobserver.org/images/320/1</td>\n",
       "      <td>1</td>\n",
       "      <td>2006-05-21 07:17:05</td>\n",
       "      <td>Fungi</td>\n",
       "      <td>Xylariaceae</td>\n",
       "      <td>5255104.0</td>\n",
       "      <td>SPECIES</td>\n",
       "      <td>Ascomycota</td>\n",
       "      <td>1298.0</td>\n",
       "      <td>Xylaria polymorpha</td>\n",
       "      <td>98.0</td>\n",
       "      <td>320.0</td>\n",
       "      <td>EXACT</td>\n",
       "      <td>4168.0</td>\n",
       "      <td>ACCEPTED</td>\n",
       "      <td>5255104.0</td>\n",
       "      <td>5.0</td>\n",
       "      <td>2568748.0</td>\n",
       "      <td>Xylaria polymorpha</td>\n",
       "      <td>95.0</td>\n",
       "      <td>Sordariomycetes</td>\n",
       "      <td>False</td>\n",
       "      <td>Xylaria polymorpha (Pers.) Grev., 1824</td>\n",
       "      <td>Xylaria</td>\n",
       "      <td>Xylariales</td>\n",
       "      <td>1</td>\n",
       "      <td>214.0</td>\n",
       "      <td>NaN</td>\n",
       "      <td>NaN</td>\n",
       "    </tr>\n",
       "    <tr>\n",
       "      <th>1</th>\n",
       "      <td>2.jpg</td>\n",
       "      <td>2</td>\n",
       "      <td>2</td>\n",
       "      <td>Xylaria magnoliae</td>\n",
       "      <td>http://mushroomobserver.org/images/320/2</td>\n",
       "      <td>1</td>\n",
       "      <td>2006-05-21 07:17:06</td>\n",
       "      <td>Fungi</td>\n",
       "      <td>Xylariaceae</td>\n",
       "      <td>3461845.0</td>\n",
       "      <td>SPECIES</td>\n",
       "      <td>Ascomycota</td>\n",
       "      <td>1298.0</td>\n",
       "      <td>Xylaria magnoliae</td>\n",
       "      <td>98.0</td>\n",
       "      <td>320.0</td>\n",
       "      <td>EXACT</td>\n",
       "      <td>4168.0</td>\n",
       "      <td>ACCEPTED</td>\n",
       "      <td>3461845.0</td>\n",
       "      <td>5.0</td>\n",
       "      <td>2568748.0</td>\n",
       "      <td>Xylaria magnoliae</td>\n",
       "      <td>95.0</td>\n",
       "      <td>Sordariomycetes</td>\n",
       "      <td>False</td>\n",
       "      <td>Xylaria magnoliae J.D. Rogers, 1979</td>\n",
       "      <td>Xylaria</td>\n",
       "      <td>Xylariales</td>\n",
       "      <td>1</td>\n",
       "      <td>53.0</td>\n",
       "      <td>NaN</td>\n",
       "      <td>NaN</td>\n",
       "    </tr>\n",
       "    <tr>\n",
       "      <th>2</th>\n",
       "      <td>3.jpg</td>\n",
       "      <td>3</td>\n",
       "      <td>3</td>\n",
       "      <td>Xylaria hypoxylon</td>\n",
       "      <td>http://mushroomobserver.org/images/320/3</td>\n",
       "      <td>1</td>\n",
       "      <td>2006-05-21 07:17:08</td>\n",
       "      <td>Fungi</td>\n",
       "      <td>Xylariaceae</td>\n",
       "      <td>8631710.0</td>\n",
       "      <td>SPECIES</td>\n",
       "      <td>Ascomycota</td>\n",
       "      <td>1298.0</td>\n",
       "      <td>Xylaria hypoxylon</td>\n",
       "      <td>98.0</td>\n",
       "      <td>320.0</td>\n",
       "      <td>EXACT</td>\n",
       "      <td>4168.0</td>\n",
       "      <td>ACCEPTED</td>\n",
       "      <td>8631710.0</td>\n",
       "      <td>5.0</td>\n",
       "      <td>2568748.0</td>\n",
       "      <td>Xylaria hypoxylon</td>\n",
       "      <td>95.0</td>\n",
       "      <td>Sordariomycetes</td>\n",
       "      <td>False</td>\n",
       "      <td>Xylaria hypoxylon (L.) Grev., 1824</td>\n",
       "      <td>Xylaria</td>\n",
       "      <td>Xylariales</td>\n",
       "      <td>1</td>\n",
       "      <td>60.0</td>\n",
       "      <td>NaN</td>\n",
       "      <td>NaN</td>\n",
       "    </tr>\n",
       "    <tr>\n",
       "      <th>3</th>\n",
       "      <td>4.jpg</td>\n",
       "      <td>4</td>\n",
       "      <td>4</td>\n",
       "      <td>Xylaria hypoxylon</td>\n",
       "      <td>http://mushroomobserver.org/images/320/4</td>\n",
       "      <td>1</td>\n",
       "      <td>2006-05-21 07:17:10</td>\n",
       "      <td>Fungi</td>\n",
       "      <td>Xylariaceae</td>\n",
       "      <td>8631710.0</td>\n",
       "      <td>SPECIES</td>\n",
       "      <td>Ascomycota</td>\n",
       "      <td>1298.0</td>\n",
       "      <td>Xylaria hypoxylon</td>\n",
       "      <td>98.0</td>\n",
       "      <td>320.0</td>\n",
       "      <td>EXACT</td>\n",
       "      <td>4168.0</td>\n",
       "      <td>ACCEPTED</td>\n",
       "      <td>8631710.0</td>\n",
       "      <td>5.0</td>\n",
       "      <td>2568748.0</td>\n",
       "      <td>Xylaria hypoxylon</td>\n",
       "      <td>95.0</td>\n",
       "      <td>Sordariomycetes</td>\n",
       "      <td>False</td>\n",
       "      <td>Xylaria hypoxylon (L.) Grev., 1824</td>\n",
       "      <td>Xylaria</td>\n",
       "      <td>Xylariales</td>\n",
       "      <td>1</td>\n",
       "      <td>5.0</td>\n",
       "      <td>NaN</td>\n",
       "      <td>NaN</td>\n",
       "    </tr>\n",
       "    <tr>\n",
       "      <th>4</th>\n",
       "      <td>5.jpg</td>\n",
       "      <td>5</td>\n",
       "      <td>5</td>\n",
       "      <td>Xeromphalina</td>\n",
       "      <td>http://mushroomobserver.org/images/320/5</td>\n",
       "      <td>1</td>\n",
       "      <td>2006-05-21 07:17:12</td>\n",
       "      <td>Fungi</td>\n",
       "      <td>Mycenaceae</td>\n",
       "      <td>NaN</td>\n",
       "      <td>GENUS</td>\n",
       "      <td>Basidiomycota</td>\n",
       "      <td>1499.0</td>\n",
       "      <td>NaN</td>\n",
       "      <td>93.0</td>\n",
       "      <td>186.0</td>\n",
       "      <td>EXACT</td>\n",
       "      <td>4180.0</td>\n",
       "      <td>ACCEPTED</td>\n",
       "      <td>2527268.0</td>\n",
       "      <td>5.0</td>\n",
       "      <td>2527268.0</td>\n",
       "      <td>Xeromphalina</td>\n",
       "      <td>34.0</td>\n",
       "      <td>Agaricomycetes</td>\n",
       "      <td>False</td>\n",
       "      <td>Xeromphalina Kühner &amp; Maire</td>\n",
       "      <td>Xeromphalina</td>\n",
       "      <td>Agaricales</td>\n",
       "      <td>1</td>\n",
       "      <td>36.0</td>\n",
       "      <td>NaN</td>\n",
       "      <td>NaN</td>\n",
       "    </tr>\n",
       "  </tbody>\n",
       "</table>\n",
       "</div>"
      ],
      "text/plain": [
       "  image_lien  image_id observation               label  \\\n",
       "0      1.jpg         1           1  Xylaria polymorpha   \n",
       "1      2.jpg         2           2   Xylaria magnoliae   \n",
       "2      3.jpg         3           3   Xylaria hypoxylon   \n",
       "3      4.jpg         4           4   Xylaria hypoxylon   \n",
       "4      5.jpg         5           5        Xeromphalina   \n",
       "\n",
       "                                  image_url user                 date  \\\n",
       "0  http://mushroomobserver.org/images/320/1    1  2006-05-21 07:17:05   \n",
       "1  http://mushroomobserver.org/images/320/2    1  2006-05-21 07:17:06   \n",
       "2  http://mushroomobserver.org/images/320/3    1  2006-05-21 07:17:08   \n",
       "3  http://mushroomobserver.org/images/320/4    1  2006-05-21 07:17:10   \n",
       "4  http://mushroomobserver.org/images/320/5    1  2006-05-21 07:17:12   \n",
       "\n",
       "  gbif_info/kingdom gbif_info/family  gbif_info/speciesKey gbif_info/rank  \\\n",
       "0             Fungi      Xylariaceae             5255104.0        SPECIES   \n",
       "1             Fungi      Xylariaceae             3461845.0        SPECIES   \n",
       "2             Fungi      Xylariaceae             8631710.0        SPECIES   \n",
       "3             Fungi      Xylariaceae             8631710.0        SPECIES   \n",
       "4             Fungi       Mycenaceae                   NaN          GENUS   \n",
       "\n",
       "  gbif_info/phylum  gbif_info/orderKey   gbif_info/species  \\\n",
       "0       Ascomycota              1298.0  Xylaria polymorpha   \n",
       "1       Ascomycota              1298.0   Xylaria magnoliae   \n",
       "2       Ascomycota              1298.0   Xylaria hypoxylon   \n",
       "3       Ascomycota              1298.0   Xylaria hypoxylon   \n",
       "4    Basidiomycota              1499.0                 NaN   \n",
       "\n",
       "   gbif_info/confidence  gbif_info/classKey gbif_info/matchType  \\\n",
       "0                  98.0               320.0               EXACT   \n",
       "1                  98.0               320.0               EXACT   \n",
       "2                  98.0               320.0               EXACT   \n",
       "3                  98.0               320.0               EXACT   \n",
       "4                  93.0               186.0               EXACT   \n",
       "\n",
       "   gbif_info/familyKey gbif_info/status  gbif_info/usageKey  \\\n",
       "0               4168.0         ACCEPTED           5255104.0   \n",
       "1               4168.0         ACCEPTED           3461845.0   \n",
       "2               4168.0         ACCEPTED           8631710.0   \n",
       "3               4168.0         ACCEPTED           8631710.0   \n",
       "4               4180.0         ACCEPTED           2527268.0   \n",
       "\n",
       "   gbif_info/kingdomKey  gbif_info/genusKey gbif_info/canonicalName  \\\n",
       "0                   5.0           2568748.0      Xylaria polymorpha   \n",
       "1                   5.0           2568748.0       Xylaria magnoliae   \n",
       "2                   5.0           2568748.0       Xylaria hypoxylon   \n",
       "3                   5.0           2568748.0       Xylaria hypoxylon   \n",
       "4                   5.0           2527268.0            Xeromphalina   \n",
       "\n",
       "   gbif_info/phylumKey  gbif_info/class gbif_info/synonym  \\\n",
       "0                 95.0  Sordariomycetes             False   \n",
       "1                 95.0  Sordariomycetes             False   \n",
       "2                 95.0  Sordariomycetes             False   \n",
       "3                 95.0  Sordariomycetes             False   \n",
       "4                 34.0   Agaricomycetes             False   \n",
       "\n",
       "                 gbif_info/scientificName gbif_info/genus gbif_info/order  \\\n",
       "0  Xylaria polymorpha (Pers.) Grev., 1824         Xylaria      Xylariales   \n",
       "1     Xylaria magnoliae J.D. Rogers, 1979         Xylaria      Xylariales   \n",
       "2      Xylaria hypoxylon (L.) Grev., 1824         Xylaria      Xylariales   \n",
       "3      Xylaria hypoxylon (L.) Grev., 1824         Xylaria      Xylariales   \n",
       "4             Xeromphalina Kühner & Maire    Xeromphalina      Agaricales   \n",
       "\n",
       "   thumbnail location gbif_info/note  gbif_info  \n",
       "0          1    214.0            NaN        NaN  \n",
       "1          1     53.0            NaN        NaN  \n",
       "2          1     60.0            NaN        NaN  \n",
       "3          1      5.0            NaN        NaN  \n",
       "4          1     36.0            NaN        NaN  "
      ]
     },
     "execution_count": 53,
     "metadata": {},
     "output_type": "execute_result"
    }
   ],
   "source": [
    "print(\"Nombre d'obervations initiales :\", mushroom_observation.shape[0])\n",
    "mushroom_observation.head(5)"
   ]
  },
  {
   "cell_type": "code",
   "execution_count": 54,
   "id": "77904491",
   "metadata": {},
   "outputs": [
    {
     "name": "stdout",
     "output_type": "stream",
     "text": [
      "Nombre de colonnes restantes (initial : 33) : 22\n"
     ]
    }
   ],
   "source": [
    "# Suppression des colonnes non exploitées :\n",
    "del_col = [\n",
    "            'image_id',              # Id donné à une image, il s'agit du même nom que celui attribué au fichier, sans l'extension.\n",
    "            'observation',           # Id donnant u nordre à l'observation, il est similaire à l'index et à image_id\n",
    "            'user',                  # Id donné à un utilisateur, probablement ayant soumis l'observation\n",
    "            'gbif_info/confidence',  # Pourcentage, basé sur un vote communautaire, pour classifier l'observation\n",
    "            'gbif_info/matchType',   # ?\n",
    "            'gbif_info/status',      # Statut de l'observation, si elle est acceptée ou rejetée sur le site. (une image de voiture serait refusée)\n",
    "            'gbif_info/synonym',     # Booléen sans utilité pour nos analyses\n",
    "            'thumbnail',             # ?\n",
    "            'location',              # Flottant donnant un lieu de localisation. Non utilisé dnas notre analyse\n",
    "            'gbif_info/note',        # Colonne de notes, composée intégralement de NaN\n",
    "            'gbif_info'              # Colonnes d'informations, composée intégralement de NaN\n",
    "          ]\n",
    "\n",
    "mushroom_observation.drop(del_col,\n",
    "                          axis = 1,\n",
    "                          inplace = True)\n",
    "\n",
    "\n",
    "print(\"Nombre de colonnes restantes (initial : 33) :\", mushroom_observation.shape[1])"
   ]
  },
  {
   "cell_type": "code",
   "execution_count": 55,
   "id": "796c02a6",
   "metadata": {},
   "outputs": [
    {
     "name": "stdout",
     "output_type": "stream",
     "text": [
      "Nombre de dupliqués : 0\n",
      "Nombre d'observations restantes : 647604\n"
     ]
    }
   ],
   "source": [
    "# Traitement des doublons\n",
    "mushroom_observation.drop_duplicates(inplace = True)\n",
    "print(\"Nombre de dupliqués :\", mushroom_observation.duplicated().sum())\n",
    "print(\"Nombre d'observations restantes :\", mushroom_observation.shape[0])"
   ]
  },
  {
   "cell_type": "code",
   "execution_count": 56,
   "id": "193c8d31",
   "metadata": {},
   "outputs": [],
   "source": [
    "# Retrait du prefixe 'gbif_info/' dans le nom des colonnes\n",
    "supp_prefixe_col = {\n",
    "    'gbif_info/kingdom' : 'kingdom',\n",
    "    'gbif_info/family' : 'family',\n",
    "    'gbif_info/rank' : 'rank',\n",
    "    'gbif_info/phylum' : 'phylum',\n",
    "    'gbif_info/species' : 'species',\n",
    "    'gbif_info/canonicalName' : 'canonicalName',\n",
    "    'gbif_info/class' : 'class',\n",
    "    'gbif_info/scientificName' : 'scientificName',\n",
    "    'gbif_info/genus' : 'genus',\n",
    "    'gbif_info/order' : 'order',\n",
    "    'gbif_info/speciesKey' : 'speciesKey',\n",
    "    'gbif_info/orderKey': 'orderKey',\n",
    "    'gbif_info/classKey': 'classKey',\n",
    "    'gbif_info/familyKey' : 'familyKey',\n",
    "    'gbif_info/usageKey' : 'scientificNameKey',\n",
    "    'gbif_info/kingdomKey' : 'kingdomKey',\n",
    "    'gbif_info/genusKey' : 'genusKey',\n",
    "    'gbif_info/phylumKey': 'phylumKey'\n",
    "    }\n",
    "\n",
    "mushroom_observation = mushroom_observation.rename(columns = supp_prefixe_col)"
   ]
  },
  {
   "cell_type": "code",
   "execution_count": 57,
   "id": "685d6ae0",
   "metadata": {},
   "outputs": [
    {
     "data": {
      "text/html": [
       "<div>\n",
       "<style scoped>\n",
       "    .dataframe tbody tr th:only-of-type {\n",
       "        vertical-align: middle;\n",
       "    }\n",
       "\n",
       "    .dataframe tbody tr th {\n",
       "        vertical-align: top;\n",
       "    }\n",
       "\n",
       "    .dataframe thead th {\n",
       "        text-align: right;\n",
       "    }\n",
       "</style>\n",
       "<table border=\"1\" class=\"dataframe\">\n",
       "  <thead>\n",
       "    <tr style=\"text-align: right;\">\n",
       "      <th></th>\n",
       "      <th>image_lien</th>\n",
       "      <th>label</th>\n",
       "      <th>image_url</th>\n",
       "      <th>date</th>\n",
       "      <th>kingdom</th>\n",
       "      <th>family</th>\n",
       "      <th>speciesKey</th>\n",
       "      <th>rank</th>\n",
       "      <th>phylum</th>\n",
       "      <th>orderKey</th>\n",
       "      <th>species</th>\n",
       "      <th>classKey</th>\n",
       "      <th>familyKey</th>\n",
       "      <th>scientificNameKey</th>\n",
       "      <th>kingdomKey</th>\n",
       "      <th>genusKey</th>\n",
       "      <th>canonicalName</th>\n",
       "      <th>phylumKey</th>\n",
       "      <th>class</th>\n",
       "      <th>scientificName</th>\n",
       "      <th>genus</th>\n",
       "      <th>order</th>\n",
       "    </tr>\n",
       "  </thead>\n",
       "  <tbody>\n",
       "    <tr>\n",
       "      <th>0</th>\n",
       "      <td>1.jpg</td>\n",
       "      <td>Xylaria polymorpha</td>\n",
       "      <td>http://mushroomobserver.org/images/320/1</td>\n",
       "      <td>2006-05-21 07:17:05</td>\n",
       "      <td>Fungi</td>\n",
       "      <td>Xylariaceae</td>\n",
       "      <td>5255104.0</td>\n",
       "      <td>SPECIES</td>\n",
       "      <td>Ascomycota</td>\n",
       "      <td>1298.0</td>\n",
       "      <td>Xylaria polymorpha</td>\n",
       "      <td>320.0</td>\n",
       "      <td>4168.0</td>\n",
       "      <td>5255104.0</td>\n",
       "      <td>5.0</td>\n",
       "      <td>2568748.0</td>\n",
       "      <td>Xylaria polymorpha</td>\n",
       "      <td>95.0</td>\n",
       "      <td>Sordariomycetes</td>\n",
       "      <td>Xylaria polymorpha (Pers.) Grev., 1824</td>\n",
       "      <td>Xylaria</td>\n",
       "      <td>Xylariales</td>\n",
       "    </tr>\n",
       "    <tr>\n",
       "      <th>1</th>\n",
       "      <td>2.jpg</td>\n",
       "      <td>Xylaria magnoliae</td>\n",
       "      <td>http://mushroomobserver.org/images/320/2</td>\n",
       "      <td>2006-05-21 07:17:06</td>\n",
       "      <td>Fungi</td>\n",
       "      <td>Xylariaceae</td>\n",
       "      <td>3461845.0</td>\n",
       "      <td>SPECIES</td>\n",
       "      <td>Ascomycota</td>\n",
       "      <td>1298.0</td>\n",
       "      <td>Xylaria magnoliae</td>\n",
       "      <td>320.0</td>\n",
       "      <td>4168.0</td>\n",
       "      <td>3461845.0</td>\n",
       "      <td>5.0</td>\n",
       "      <td>2568748.0</td>\n",
       "      <td>Xylaria magnoliae</td>\n",
       "      <td>95.0</td>\n",
       "      <td>Sordariomycetes</td>\n",
       "      <td>Xylaria magnoliae J.D. Rogers, 1979</td>\n",
       "      <td>Xylaria</td>\n",
       "      <td>Xylariales</td>\n",
       "    </tr>\n",
       "    <tr>\n",
       "      <th>2</th>\n",
       "      <td>3.jpg</td>\n",
       "      <td>Xylaria hypoxylon</td>\n",
       "      <td>http://mushroomobserver.org/images/320/3</td>\n",
       "      <td>2006-05-21 07:17:08</td>\n",
       "      <td>Fungi</td>\n",
       "      <td>Xylariaceae</td>\n",
       "      <td>8631710.0</td>\n",
       "      <td>SPECIES</td>\n",
       "      <td>Ascomycota</td>\n",
       "      <td>1298.0</td>\n",
       "      <td>Xylaria hypoxylon</td>\n",
       "      <td>320.0</td>\n",
       "      <td>4168.0</td>\n",
       "      <td>8631710.0</td>\n",
       "      <td>5.0</td>\n",
       "      <td>2568748.0</td>\n",
       "      <td>Xylaria hypoxylon</td>\n",
       "      <td>95.0</td>\n",
       "      <td>Sordariomycetes</td>\n",
       "      <td>Xylaria hypoxylon (L.) Grev., 1824</td>\n",
       "      <td>Xylaria</td>\n",
       "      <td>Xylariales</td>\n",
       "    </tr>\n",
       "    <tr>\n",
       "      <th>3</th>\n",
       "      <td>4.jpg</td>\n",
       "      <td>Xylaria hypoxylon</td>\n",
       "      <td>http://mushroomobserver.org/images/320/4</td>\n",
       "      <td>2006-05-21 07:17:10</td>\n",
       "      <td>Fungi</td>\n",
       "      <td>Xylariaceae</td>\n",
       "      <td>8631710.0</td>\n",
       "      <td>SPECIES</td>\n",
       "      <td>Ascomycota</td>\n",
       "      <td>1298.0</td>\n",
       "      <td>Xylaria hypoxylon</td>\n",
       "      <td>320.0</td>\n",
       "      <td>4168.0</td>\n",
       "      <td>8631710.0</td>\n",
       "      <td>5.0</td>\n",
       "      <td>2568748.0</td>\n",
       "      <td>Xylaria hypoxylon</td>\n",
       "      <td>95.0</td>\n",
       "      <td>Sordariomycetes</td>\n",
       "      <td>Xylaria hypoxylon (L.) Grev., 1824</td>\n",
       "      <td>Xylaria</td>\n",
       "      <td>Xylariales</td>\n",
       "    </tr>\n",
       "    <tr>\n",
       "      <th>4</th>\n",
       "      <td>5.jpg</td>\n",
       "      <td>Xeromphalina</td>\n",
       "      <td>http://mushroomobserver.org/images/320/5</td>\n",
       "      <td>2006-05-21 07:17:12</td>\n",
       "      <td>Fungi</td>\n",
       "      <td>Mycenaceae</td>\n",
       "      <td>NaN</td>\n",
       "      <td>GENUS</td>\n",
       "      <td>Basidiomycota</td>\n",
       "      <td>1499.0</td>\n",
       "      <td>NaN</td>\n",
       "      <td>186.0</td>\n",
       "      <td>4180.0</td>\n",
       "      <td>2527268.0</td>\n",
       "      <td>5.0</td>\n",
       "      <td>2527268.0</td>\n",
       "      <td>Xeromphalina</td>\n",
       "      <td>34.0</td>\n",
       "      <td>Agaricomycetes</td>\n",
       "      <td>Xeromphalina Kühner &amp; Maire</td>\n",
       "      <td>Xeromphalina</td>\n",
       "      <td>Agaricales</td>\n",
       "    </tr>\n",
       "  </tbody>\n",
       "</table>\n",
       "</div>"
      ],
      "text/plain": [
       "  image_lien               label                                 image_url  \\\n",
       "0      1.jpg  Xylaria polymorpha  http://mushroomobserver.org/images/320/1   \n",
       "1      2.jpg   Xylaria magnoliae  http://mushroomobserver.org/images/320/2   \n",
       "2      3.jpg   Xylaria hypoxylon  http://mushroomobserver.org/images/320/3   \n",
       "3      4.jpg   Xylaria hypoxylon  http://mushroomobserver.org/images/320/4   \n",
       "4      5.jpg        Xeromphalina  http://mushroomobserver.org/images/320/5   \n",
       "\n",
       "                  date kingdom       family  speciesKey     rank  \\\n",
       "0  2006-05-21 07:17:05   Fungi  Xylariaceae   5255104.0  SPECIES   \n",
       "1  2006-05-21 07:17:06   Fungi  Xylariaceae   3461845.0  SPECIES   \n",
       "2  2006-05-21 07:17:08   Fungi  Xylariaceae   8631710.0  SPECIES   \n",
       "3  2006-05-21 07:17:10   Fungi  Xylariaceae   8631710.0  SPECIES   \n",
       "4  2006-05-21 07:17:12   Fungi   Mycenaceae         NaN    GENUS   \n",
       "\n",
       "          phylum  orderKey             species  classKey  familyKey  \\\n",
       "0     Ascomycota    1298.0  Xylaria polymorpha     320.0     4168.0   \n",
       "1     Ascomycota    1298.0   Xylaria magnoliae     320.0     4168.0   \n",
       "2     Ascomycota    1298.0   Xylaria hypoxylon     320.0     4168.0   \n",
       "3     Ascomycota    1298.0   Xylaria hypoxylon     320.0     4168.0   \n",
       "4  Basidiomycota    1499.0                 NaN     186.0     4180.0   \n",
       "\n",
       "   scientificNameKey  kingdomKey   genusKey       canonicalName  phylumKey  \\\n",
       "0          5255104.0         5.0  2568748.0  Xylaria polymorpha       95.0   \n",
       "1          3461845.0         5.0  2568748.0   Xylaria magnoliae       95.0   \n",
       "2          8631710.0         5.0  2568748.0   Xylaria hypoxylon       95.0   \n",
       "3          8631710.0         5.0  2568748.0   Xylaria hypoxylon       95.0   \n",
       "4          2527268.0         5.0  2527268.0        Xeromphalina       34.0   \n",
       "\n",
       "             class                          scientificName         genus  \\\n",
       "0  Sordariomycetes  Xylaria polymorpha (Pers.) Grev., 1824       Xylaria   \n",
       "1  Sordariomycetes     Xylaria magnoliae J.D. Rogers, 1979       Xylaria   \n",
       "2  Sordariomycetes      Xylaria hypoxylon (L.) Grev., 1824       Xylaria   \n",
       "3  Sordariomycetes      Xylaria hypoxylon (L.) Grev., 1824       Xylaria   \n",
       "4   Agaricomycetes             Xeromphalina Kühner & Maire  Xeromphalina   \n",
       "\n",
       "        order  \n",
       "0  Xylariales  \n",
       "1  Xylariales  \n",
       "2  Xylariales  \n",
       "3  Xylariales  \n",
       "4  Agaricales  "
      ]
     },
     "execution_count": 57,
     "metadata": {},
     "output_type": "execute_result"
    }
   ],
   "source": [
    "mushroom_observation.head()"
   ]
  },
  {
   "cell_type": "code",
   "execution_count": 58,
   "id": "c7ce054f",
   "metadata": {},
   "outputs": [
    {
     "name": "stdout",
     "output_type": "stream",
     "text": [
      "Nombre de NaN dans 'rank' : 33874\n",
      "Valeurs restantes dans 'rank' : ['SPECIES' 'GENUS' 'ORDER' 'FORM' 'VARIETY' 'FAMILY' 'SUBSPECIES' 'PHYLUM'\n",
      " 'KINGDOM' 'CLASS']\n",
      "Nombre d'observations restantes : 613730\n"
     ]
    }
   ],
   "source": [
    "# Traitement des NaN\n",
    "print(\"Nombre de NaN dans 'rank' :\", mushroom_observation['rank'].isna().sum())\n",
    "\n",
    "\n",
    "# Nous supprimons les lignes contenant des NaN dans la variable 'rank'.\n",
    "mushroom_observation = mushroom_observation.dropna(subset=['rank'])\n",
    "print(\"Valeurs restantes dans 'rank' :\", mushroom_observation['rank'].unique())\n",
    "print(\"Nombre d'observations restantes :\", mushroom_observation.shape[0])"
   ]
  },
  {
   "cell_type": "code",
   "execution_count": 59,
   "id": "ff785dc8",
   "metadata": {},
   "outputs": [
    {
     "name": "stdout",
     "output_type": "stream",
     "text": [
      "Nombre de NaN dans 'date' : 0\n"
     ]
    }
   ],
   "source": [
    "# Création d'une colonne 'saison'\n",
    "print(\"Nombre de NaN dans 'date' :\", mushroom_observation['date'].isna().sum())\n",
    "\n",
    "\n",
    "# Ajout d'une colonne tampon 'date2' avec suppression des hh:mm:ss de la colonne 'date' :\n",
    "mushroom_observation['date2'] = mushroom_observation['date'].str.slice(start=5, stop=7)\n",
    "\n",
    "# Construction d'une fonction retournant la saison en fonction du mois observé\n",
    "def get_season(date):\n",
    "    if date == '12' or date == '01' or date == '02':\n",
    "        return 'hiver'\n",
    "    elif date == '03' or date == '04' or date == '05':\n",
    "        return 'printemps'\n",
    "    elif date == '06' or date == '07' or date == '08':\n",
    "        return 'ete'\n",
    "    else:\n",
    "        return 'automne'\n",
    "    \n",
    "# Construction de la colonne 'saison' en appliquant la fonction 'get_season' sur la colonne 'date'\n",
    "mushroom_observation['saison'] = mushroom_observation['date2'].apply(get_season)\n",
    "\n",
    "# Suppression de la colonne 'date2' :\n",
    "mushroom_observation.drop('date2', axis = 1, inplace = True)"
   ]
  },
  {
   "cell_type": "code",
   "execution_count": 80,
   "id": "1ef1ddaf",
   "metadata": {},
   "outputs": [
    {
     "name": "stdout",
     "output_type": "stream",
     "text": [
      "Nombre d'observations restantes : 579313\n"
     ]
    }
   ],
   "source": [
    "# La variable rank représente le niveau de précision de classification de l'observation.\n",
    "# Traitement des rank < 'family'\n",
    "\n",
    "mushroom_observation_cleaned_sorted_ranks = mushroom_observation.loc[~mushroom_observation['rank'] \\\n",
    "                                    .isin(['KINGDOM', 'PHYLUM', 'CLASS', 'ORDER', 'VARIETY', 'FORM', 'SUBSPECIES'])]\n",
    "\n",
    "print(\"Nombre d'observations restantes :\", mushroom_observation_cleaned_sorted_ranks.shape[0])"
   ]
  },
  {
   "cell_type": "code",
   "execution_count": 79,
   "id": "22e72886",
   "metadata": {},
   "outputs": [],
   "source": [
    "# Sauvegarde du fichier de données nettoyé :\n",
    "mushroom_observation.to_csv('../data/observations_mushroom_cleaned.csv', index=False)\n",
    "mushroom_observation_cleaned_sorted_ranks.to_csv('../data/observations_mushroom_cleaned_sorted_rank.csv', index=False)"
   ]
  },
  {
   "cell_type": "markdown",
   "id": "3add582b",
   "metadata": {},
   "source": [
    "# Construction jeux de données"
   ]
  },
  {
   "cell_type": "markdown",
   "id": "bce7a57f",
   "metadata": {},
   "source": [
    "### mushroom_observation_key ne contenant que les variables 'key'"
   ]
  },
  {
   "cell_type": "code",
   "execution_count": 74,
   "id": "3afbb839",
   "metadata": {},
   "outputs": [
    {
     "name": "stdout",
     "output_type": "stream",
     "text": [
      "Nombre d'observations : (613730, 9)\n"
     ]
    },
    {
     "data": {
      "text/html": [
       "<div>\n",
       "<style scoped>\n",
       "    .dataframe tbody tr th:only-of-type {\n",
       "        vertical-align: middle;\n",
       "    }\n",
       "\n",
       "    .dataframe tbody tr th {\n",
       "        vertical-align: top;\n",
       "    }\n",
       "\n",
       "    .dataframe thead th {\n",
       "        text-align: right;\n",
       "    }\n",
       "</style>\n",
       "<table border=\"1\" class=\"dataframe\">\n",
       "  <thead>\n",
       "    <tr style=\"text-align: right;\">\n",
       "      <th></th>\n",
       "      <th>image_lien</th>\n",
       "      <th>speciesKey</th>\n",
       "      <th>orderKey</th>\n",
       "      <th>classKey</th>\n",
       "      <th>scientificNameKey</th>\n",
       "      <th>familyKey</th>\n",
       "      <th>kingdomKey</th>\n",
       "      <th>genusKey</th>\n",
       "      <th>phylumKey</th>\n",
       "    </tr>\n",
       "  </thead>\n",
       "  <tbody>\n",
       "    <tr>\n",
       "      <th>0</th>\n",
       "      <td>1.jpg</td>\n",
       "      <td>5255104.0</td>\n",
       "      <td>1298.0</td>\n",
       "      <td>320.0</td>\n",
       "      <td>5255104.0</td>\n",
       "      <td>4168.0</td>\n",
       "      <td>5.0</td>\n",
       "      <td>2568748.0</td>\n",
       "      <td>95.0</td>\n",
       "    </tr>\n",
       "    <tr>\n",
       "      <th>1</th>\n",
       "      <td>2.jpg</td>\n",
       "      <td>3461845.0</td>\n",
       "      <td>1298.0</td>\n",
       "      <td>320.0</td>\n",
       "      <td>3461845.0</td>\n",
       "      <td>4168.0</td>\n",
       "      <td>5.0</td>\n",
       "      <td>2568748.0</td>\n",
       "      <td>95.0</td>\n",
       "    </tr>\n",
       "    <tr>\n",
       "      <th>2</th>\n",
       "      <td>3.jpg</td>\n",
       "      <td>8631710.0</td>\n",
       "      <td>1298.0</td>\n",
       "      <td>320.0</td>\n",
       "      <td>8631710.0</td>\n",
       "      <td>4168.0</td>\n",
       "      <td>5.0</td>\n",
       "      <td>2568748.0</td>\n",
       "      <td>95.0</td>\n",
       "    </tr>\n",
       "    <tr>\n",
       "      <th>3</th>\n",
       "      <td>4.jpg</td>\n",
       "      <td>8631710.0</td>\n",
       "      <td>1298.0</td>\n",
       "      <td>320.0</td>\n",
       "      <td>8631710.0</td>\n",
       "      <td>4168.0</td>\n",
       "      <td>5.0</td>\n",
       "      <td>2568748.0</td>\n",
       "      <td>95.0</td>\n",
       "    </tr>\n",
       "    <tr>\n",
       "      <th>4</th>\n",
       "      <td>5.jpg</td>\n",
       "      <td>NaN</td>\n",
       "      <td>1499.0</td>\n",
       "      <td>186.0</td>\n",
       "      <td>2527268.0</td>\n",
       "      <td>4180.0</td>\n",
       "      <td>5.0</td>\n",
       "      <td>2527268.0</td>\n",
       "      <td>34.0</td>\n",
       "    </tr>\n",
       "  </tbody>\n",
       "</table>\n",
       "</div>"
      ],
      "text/plain": [
       "  image_lien  speciesKey  orderKey  classKey  scientificNameKey  familyKey  \\\n",
       "0      1.jpg   5255104.0    1298.0     320.0          5255104.0     4168.0   \n",
       "1      2.jpg   3461845.0    1298.0     320.0          3461845.0     4168.0   \n",
       "2      3.jpg   8631710.0    1298.0     320.0          8631710.0     4168.0   \n",
       "3      4.jpg   8631710.0    1298.0     320.0          8631710.0     4168.0   \n",
       "4      5.jpg         NaN    1499.0     186.0          2527268.0     4180.0   \n",
       "\n",
       "   kingdomKey   genusKey  phylumKey  \n",
       "0         5.0  2568748.0       95.0  \n",
       "1         5.0  2568748.0       95.0  \n",
       "2         5.0  2568748.0       95.0  \n",
       "3         5.0  2568748.0       95.0  \n",
       "4         5.0  2527268.0       34.0  "
      ]
     },
     "execution_count": 74,
     "metadata": {},
     "output_type": "execute_result"
    }
   ],
   "source": [
    "# Construction du dataset \n",
    "observations_mushroom_key = mushroom_observation[['image_lien',\n",
    "                                                 'speciesKey',\n",
    "                                                 'orderKey',\n",
    "                                                 'classKey',\n",
    "                                                 'scientificNameKey',\n",
    "                                                 'familyKey',\n",
    "                                                 'kingdomKey',\n",
    "                                                 'genusKey',\n",
    "                                                 'phylumKey']]\n",
    "\n",
    "print(\"Nombre d'observations :\", observations_mushroom_key.shape)\n",
    "observations_mushroom_key.head()"
   ]
  },
  {
   "cell_type": "code",
   "execution_count": 75,
   "id": "6e4f2947",
   "metadata": {},
   "outputs": [
    {
     "name": "stdout",
     "output_type": "stream",
     "text": [
      "Nombre d'observations : (406852, 9)\n"
     ]
    },
    {
     "data": {
      "text/plain": [
       "image_lien           0\n",
       "speciesKey           0\n",
       "orderKey             0\n",
       "classKey             0\n",
       "scientificNameKey    0\n",
       "familyKey            0\n",
       "kingdomKey           0\n",
       "genusKey             0\n",
       "phylumKey            0\n",
       "dtype: int64"
      ]
     },
     "execution_count": 75,
     "metadata": {},
     "output_type": "execute_result"
    }
   ],
   "source": [
    "# Suppression des NaN\n",
    "observations_mushroom_key = observations_mushroom_key.dropna()\n",
    "print(\"Nombre d'observations :\", observations_mushroom_key.shape)\n",
    "observations_mushroom_key.isna().sum()"
   ]
  },
  {
   "cell_type": "code",
   "execution_count": 77,
   "id": "c4f80eec",
   "metadata": {},
   "outputs": [],
   "source": [
    "# Enregistrement du dataset\n",
    "observations_mushroom_key.to_csv('../data/observations_mushroom_key.csv', index=False)"
   ]
  },
  {
   "cell_type": "markdown",
   "id": "648fce9f",
   "metadata": {},
   "source": [
    "### model_datas pour l'entrainement du modèle"
   ]
  },
  {
   "cell_type": "code",
   "execution_count": 64,
   "id": "161ff41f",
   "metadata": {},
   "outputs": [
    {
     "name": "stdout",
     "output_type": "stream",
     "text": [
      "Valeurs restantes dans 'rank' : ['SPECIES' 'GENUS' 'FAMILY' 'SUBSPECIES']\n",
      "Nombre d'observations restantes : 580206\n"
     ]
    }
   ],
   "source": [
    "temp_df = mushroom_observation_cleaned_sorted_ranks"
   ]
  },
  {
   "cell_type": "code",
   "execution_count": 65,
   "id": "ab39099f",
   "metadata": {},
   "outputs": [
    {
     "name": "stderr",
     "output_type": "stream",
     "text": [
      "C:\\Users\\guill\\AppData\\Local\\Temp\\ipykernel_16196\\372191355.py:2: SettingWithCopyWarning: \n",
      "A value is trying to be set on a copy of a slice from a DataFrame\n",
      "\n",
      "See the caveats in the documentation: https://pandas.pydata.org/pandas-docs/stable/user_guide/indexing.html#returning-a-view-versus-a-copy\n",
      "  temp_df.drop('image_url', axis = 1, inplace = True)\n",
      "C:\\Users\\guill\\AppData\\Local\\Temp\\ipykernel_16196\\372191355.py:11: SettingWithCopyWarning: \n",
      "A value is trying to be set on a copy of a slice from a DataFrame.\n",
      "Try using .loc[row_indexer,col_indexer] = value instead\n",
      "\n",
      "See the caveats in the documentation: https://pandas.pydata.org/pandas-docs/stable/user_guide/indexing.html#returning-a-view-versus-a-copy\n",
      "  temp_df[\"image_url\"] = temp_df[\"image_lien\"].apply(ajout_url)\n"
     ]
    }
   ],
   "source": [
    "# Suppression de 'image_url' (sera reconstruite)\n",
    "temp_df.drop('image_url', axis = 1, inplace = True)\n",
    "temp_df.head()\n",
    "\n",
    "\n",
    "# Fonction pour créer le chemin complet des images\n",
    "def ajout_url(image_lien):\n",
    "    filepath = \"../../images/\"\n",
    "    return os.path.join(filepath, image_lien)\n",
    "\n",
    "temp_df[\"image_url\"] = temp_df[\"image_lien\"].apply(ajout_url)"
   ]
  },
  {
   "cell_type": "code",
   "execution_count": 82,
   "id": "0da99c89",
   "metadata": {},
   "outputs": [],
   "source": [
    "# Retrait des colonnes non necessaires\n",
    "model_data = temp_df[['label','image_lien', 'image_url', 'saison']]"
   ]
  },
  {
   "cell_type": "code",
   "execution_count": 83,
   "id": "4bd1d8e4",
   "metadata": {},
   "outputs": [
    {
     "name": "stderr",
     "output_type": "stream",
     "text": [
      "C:\\Users\\guill\\AppData\\Local\\Temp\\ipykernel_16196\\2996696009.py:2: SettingWithCopyWarning: \n",
      "A value is trying to be set on a copy of a slice from a DataFrame\n",
      "\n",
      "See the caveats in the documentation: https://pandas.pydata.org/pandas-docs/stable/user_guide/indexing.html#returning-a-view-versus-a-copy\n",
      "  model_data.drop_duplicates(inplace=True)\n"
     ]
    },
    {
     "data": {
      "text/plain": [
       "580082"
      ]
     },
     "execution_count": 83,
     "metadata": {},
     "output_type": "execute_result"
    }
   ],
   "source": [
    "# Suppression des doublons\n",
    "model_data.drop_duplicates(inplace=True)\n",
    "model_data.shape[0]"
   ]
  },
  {
   "cell_type": "code",
   "execution_count": 84,
   "id": "3ef602b3",
   "metadata": {},
   "outputs": [],
   "source": [
    "# On ne garde que les 10 espèces les plus représentées\n",
    "nb_val = model_data['label'].value_counts()\n",
    "nb_val_label = nb_val.head(10)\n",
    "nb_val_label = nb_val_label.index\n",
    "\n",
    "model_data_10 = model_data[model_data['label'].isin(nb_val_label)]\n",
    "model_data_10.reset_index(inplace=True, drop=True)"
   ]
  },
  {
   "cell_type": "code",
   "execution_count": 85,
   "id": "385e6dd5",
   "metadata": {},
   "outputs": [
    {
     "name": "stdout",
     "output_type": "stream",
     "text": [
      "Nombre d'observations restantes : 53092\n"
     ]
    }
   ],
   "source": [
    "# l'image '611.56.jpg' n'existe pas, la ligne est donc supprimée du DataFrame pour ne pas créer d'erreur lors de l'entrainement\n",
    "model_data_10 = model_data_10.drop(model_data_10[model_data_10['image_url'] == '../../images/611356.jpg'].index)\n",
    "print(\"Nombre d'observations restantes :\", model_data_10.shape[0])"
   ]
  },
  {
   "cell_type": "code",
   "execution_count": 86,
   "id": "1e4c0250",
   "metadata": {},
   "outputs": [
    {
     "data": {
      "text/plain": [
       "Russula        8235\n",
       "Cortinarius    7352\n",
       "Inocybe        5603\n",
       "Psathyrella    5564\n",
       "Mycena         5342\n",
       "Amanita        4987\n",
       "Agaricus       4692\n",
       "Entoloma       4209\n",
       "Gymnopilus     3744\n",
       "Pluteus        3364\n",
       "Name: label, dtype: int64"
      ]
     },
     "execution_count": 86,
     "metadata": {},
     "output_type": "execute_result"
    }
   ],
   "source": [
    "model_data_10['label'].value_counts()"
   ]
  },
  {
   "cell_type": "code",
   "execution_count": 87,
   "id": "9ed6157b",
   "metadata": {},
   "outputs": [
    {
     "data": {
      "text/html": [
       "<div>\n",
       "<style scoped>\n",
       "    .dataframe tbody tr th:only-of-type {\n",
       "        vertical-align: middle;\n",
       "    }\n",
       "\n",
       "    .dataframe tbody tr th {\n",
       "        vertical-align: top;\n",
       "    }\n",
       "\n",
       "    .dataframe thead th {\n",
       "        text-align: right;\n",
       "    }\n",
       "</style>\n",
       "<table border=\"1\" class=\"dataframe\">\n",
       "  <thead>\n",
       "    <tr style=\"text-align: right;\">\n",
       "      <th></th>\n",
       "      <th>fichiers</th>\n",
       "    </tr>\n",
       "  </thead>\n",
       "  <tbody>\n",
       "    <tr>\n",
       "      <th>0</th>\n",
       "      <td>../../images/100403.jpg</td>\n",
       "    </tr>\n",
       "    <tr>\n",
       "      <th>1</th>\n",
       "      <td>../../images/101142.jpg</td>\n",
       "    </tr>\n",
       "    <tr>\n",
       "      <th>2</th>\n",
       "      <td>../../images/101143.jpg</td>\n",
       "    </tr>\n",
       "    <tr>\n",
       "      <th>3</th>\n",
       "      <td>../../images/101785.jpg</td>\n",
       "    </tr>\n",
       "    <tr>\n",
       "      <th>4</th>\n",
       "      <td>../../images/101786.jpg</td>\n",
       "    </tr>\n",
       "  </tbody>\n",
       "</table>\n",
       "</div>"
      ],
      "text/plain": [
       "                  fichiers\n",
       "0  ../../images/100403.jpg\n",
       "1  ../../images/101142.jpg\n",
       "2  ../../images/101143.jpg\n",
       "3  ../../images/101785.jpg\n",
       "4  ../../images/101786.jpg"
      ]
     },
     "execution_count": 87,
     "metadata": {},
     "output_type": "execute_result"
    }
   ],
   "source": [
    "# On retire toutes les lignes comportant des images qui ont été retirées du dataset (images poubelles)\n",
    "\n",
    "# img_supp.csv contient les fichiers images retirés du jeu de données inital\n",
    "tri_img = pd.read_csv('../data/img_supp.csv', index_col = 0)\n",
    "tri_img['fichiers'] = '../../images/' + tri_img['fichiers']\n",
    "liste_supp = tri_img['fichiers'].tolist()\n",
    "tri_img.head()"
   ]
  },
  {
   "cell_type": "code",
   "execution_count": 88,
   "id": "e0ea3e13",
   "metadata": {},
   "outputs": [
    {
     "name": "stdout",
     "output_type": "stream",
     "text": [
      "Nombre d'observations restantes : 49861\n"
     ]
    }
   ],
   "source": [
    "indices_a_supprimer = model_data_10['image_url'].isin(liste_supp)\n",
    "model_data_10_filtered = model_data_10[~indices_a_supprimer]\n",
    "print(\"Nombre d'observations restantes :\", model_data_10_filtered.shape[0])"
   ]
  },
  {
   "cell_type": "code",
   "execution_count": 89,
   "id": "8b2f7262",
   "metadata": {},
   "outputs": [
    {
     "data": {
      "text/plain": [
       "Russula        7946\n",
       "Cortinarius    6970\n",
       "Psathyrella    5124\n",
       "Mycena         4928\n",
       "Amanita        4887\n",
       "Agaricus       4545\n",
       "Inocybe        4435\n",
       "Entoloma       3918\n",
       "Gymnopilus     3744\n",
       "Pluteus        3364\n",
       "Name: label, dtype: int64"
      ]
     },
     "execution_count": 89,
     "metadata": {},
     "output_type": "execute_result"
    }
   ],
   "source": [
    "model_data_10_filtered['label'].value_counts()"
   ]
  },
  {
   "cell_type": "code",
   "execution_count": 93,
   "id": "39a98eda",
   "metadata": {},
   "outputs": [],
   "source": [
    "# Enregistrement des csv\n",
    "model_data_10.to_csv('../data/model_data_10.csv', index=False)\n",
    "model_data_10_filtered.to_csv('../data/model_data_10_filtered.csv', index=False)"
   ]
  }
 ],
 "metadata": {
  "kernelspec": {
   "display_name": "Python 3 (ipykernel)",
   "language": "python",
   "name": "python3"
  },
  "language_info": {
   "codemirror_mode": {
    "name": "ipython",
    "version": 3
   },
   "file_extension": ".py",
   "mimetype": "text/x-python",
   "name": "python",
   "nbconvert_exporter": "python",
   "pygments_lexer": "ipython3",
   "version": "3.11.4"
  }
 },
 "nbformat": 4,
 "nbformat_minor": 5
}
